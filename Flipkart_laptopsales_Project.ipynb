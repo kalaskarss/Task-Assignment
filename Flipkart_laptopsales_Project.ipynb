{
 "cells": [
  {
   "cell_type": "markdown",
   "id": "1bc00219",
   "metadata": {},
   "source": [
    "## Importing libraries"
   ]
  },
  {
   "cell_type": "code",
   "execution_count": 1,
   "id": "add914be",
   "metadata": {},
   "outputs": [],
   "source": [
    "import numpy as np\n",
    "import pandas as pd\n",
    "import matplotlib.pyplot as plt\n",
    "import seaborn as sns\n",
    "import warnings\n",
    "warnings.filterwarnings(\"ignore\")"
   ]
  },
  {
   "cell_type": "markdown",
   "id": "3e5f0a14",
   "metadata": {},
   "source": [
    "## Importing Data set"
   ]
  },
  {
   "cell_type": "code",
   "execution_count": 2,
   "id": "0cba6258",
   "metadata": {},
   "outputs": [],
   "source": [
    "df = pd.read_csv(r'C:\\Users\\LENOVO\\Downloads\\Flipkartlaptop_sales (2).csv')"
   ]
  },
  {
   "cell_type": "code",
   "execution_count": 3,
   "id": "2ddf827a",
   "metadata": {},
   "outputs": [
    {
     "data": {
      "text/html": [
       "<div>\n",
       "<style scoped>\n",
       "    .dataframe tbody tr th:only-of-type {\n",
       "        vertical-align: middle;\n",
       "    }\n",
       "\n",
       "    .dataframe tbody tr th {\n",
       "        vertical-align: top;\n",
       "    }\n",
       "\n",
       "    .dataframe thead th {\n",
       "        text-align: right;\n",
       "    }\n",
       "</style>\n",
       "<table border=\"1\" class=\"dataframe\">\n",
       "  <thead>\n",
       "    <tr style=\"text-align: right;\">\n",
       "      <th></th>\n",
       "      <th>Unnamed: 0</th>\n",
       "      <th>Brand</th>\n",
       "      <th>RAM_GB</th>\n",
       "      <th>Processor</th>\n",
       "      <th>OS</th>\n",
       "      <th>Display_size(inch)</th>\n",
       "      <th>Rating</th>\n",
       "      <th>Price</th>\n",
       "      <th>Reviews</th>\n",
       "    </tr>\n",
       "  </thead>\n",
       "  <tbody>\n",
       "    <tr>\n",
       "      <th>0</th>\n",
       "      <td>0</td>\n",
       "      <td>Lenovo</td>\n",
       "      <td>8</td>\n",
       "      <td>Intel Celeron Dual</td>\n",
       "      <td>64 bit Windows 11 Operating</td>\n",
       "      <td>15.6 inch</td>\n",
       "      <td>4.0</td>\n",
       "      <td>23790</td>\n",
       "      <td>0</td>\n",
       "    </tr>\n",
       "    <tr>\n",
       "      <th>1</th>\n",
       "      <td>1</td>\n",
       "      <td>ASUS</td>\n",
       "      <td>8</td>\n",
       "      <td>Intel Core i5</td>\n",
       "      <td>64 bit Windows 11 Operating</td>\n",
       "      <td>15.6</td>\n",
       "      <td>4.3</td>\n",
       "      <td>38990</td>\n",
       "      <td>949</td>\n",
       "    </tr>\n",
       "    <tr>\n",
       "      <th>2</th>\n",
       "      <td>2</td>\n",
       "      <td>APPLE</td>\n",
       "      <td>8</td>\n",
       "      <td>Apple M2 Processor8</td>\n",
       "      <td>Mac OS Operating</td>\n",
       "      <td>13.6</td>\n",
       "      <td>4.7</td>\n",
       "      <td>107990</td>\n",
       "      <td>999</td>\n",
       "    </tr>\n",
       "    <tr>\n",
       "      <th>3</th>\n",
       "      <td>3</td>\n",
       "      <td>HP</td>\n",
       "      <td>8</td>\n",
       "      <td>AMD Ryzen 3</td>\n",
       "      <td>Windows 11 Operating</td>\n",
       "      <td>15.6</td>\n",
       "      <td>4.2</td>\n",
       "      <td>29490</td>\n",
       "      <td>1199</td>\n",
       "    </tr>\n",
       "    <tr>\n",
       "      <th>4</th>\n",
       "      <td>4</td>\n",
       "      <td>Infinix</td>\n",
       "      <td>8</td>\n",
       "      <td>Intel Core i3</td>\n",
       "      <td>64 bit Windows 11 Operating</td>\n",
       "      <td>15.6 inch</td>\n",
       "      <td>4.2</td>\n",
       "      <td>23990</td>\n",
       "      <td>35</td>\n",
       "    </tr>\n",
       "  </tbody>\n",
       "</table>\n",
       "</div>"
      ],
      "text/plain": [
       "   Unnamed: 0    Brand  RAM_GB            Processor  \\\n",
       "0           0   Lenovo       8   Intel Celeron Dual   \n",
       "1           1     ASUS       8        Intel Core i5   \n",
       "2           2    APPLE       8  Apple M2 Processor8   \n",
       "3           3       HP       8          AMD Ryzen 3   \n",
       "4           4  Infinix       8        Intel Core i3   \n",
       "\n",
       "                             OS Display_size(inch)  Rating   Price  Reviews  \n",
       "0  64 bit Windows 11 Operating           15.6 inch     4.0   23790        0  \n",
       "1  64 bit Windows 11 Operating                15.6     4.3   38990      949  \n",
       "2             Mac OS Operating                13.6     4.7  107990      999  \n",
       "3         Windows 11 Operating                15.6     4.2   29490     1199  \n",
       "4  64 bit Windows 11 Operating           15.6 inch     4.2   23990       35  "
      ]
     },
     "execution_count": 3,
     "metadata": {},
     "output_type": "execute_result"
    }
   ],
   "source": [
    "df.head()   # first five row of dataset"
   ]
  },
  {
   "cell_type": "code",
   "execution_count": 4,
   "id": "f8a3f7ff",
   "metadata": {},
   "outputs": [
    {
     "data": {
      "text/plain": [
       "(531, 9)"
      ]
     },
     "execution_count": 4,
     "metadata": {},
     "output_type": "execute_result"
    }
   ],
   "source": [
    "df.shape   #shape of data. we have 531 rows and ,9 columns."
   ]
  },
  {
   "cell_type": "code",
   "execution_count": 5,
   "id": "3251e1be",
   "metadata": {},
   "outputs": [
    {
     "data": {
      "text/plain": [
       "Index(['Unnamed: 0', 'Brand', 'RAM_GB', 'Processor', 'OS',\n",
       "       'Display_size(inch)', 'Rating', 'Price', 'Reviews'],\n",
       "      dtype='object')"
      ]
     },
     "execution_count": 5,
     "metadata": {},
     "output_type": "execute_result"
    }
   ],
   "source": [
    "df.columns"
   ]
  },
  {
   "cell_type": "markdown",
   "id": "ffab32f3",
   "metadata": {},
   "source": [
    "### Dropping column which is not usefull for our data analysis"
   ]
  },
  {
   "cell_type": "code",
   "execution_count": 6,
   "id": "411ef48b",
   "metadata": {},
   "outputs": [],
   "source": [
    "df.drop('Unnamed: 0',axis = 1,inplace = True)"
   ]
  },
  {
   "cell_type": "code",
   "execution_count": 7,
   "id": "02b5afdf",
   "metadata": {},
   "outputs": [
    {
     "data": {
      "text/html": [
       "<div>\n",
       "<style scoped>\n",
       "    .dataframe tbody tr th:only-of-type {\n",
       "        vertical-align: middle;\n",
       "    }\n",
       "\n",
       "    .dataframe tbody tr th {\n",
       "        vertical-align: top;\n",
       "    }\n",
       "\n",
       "    .dataframe thead th {\n",
       "        text-align: right;\n",
       "    }\n",
       "</style>\n",
       "<table border=\"1\" class=\"dataframe\">\n",
       "  <thead>\n",
       "    <tr style=\"text-align: right;\">\n",
       "      <th></th>\n",
       "      <th>Brand</th>\n",
       "      <th>RAM_GB</th>\n",
       "      <th>Processor</th>\n",
       "      <th>OS</th>\n",
       "      <th>Display_size(inch)</th>\n",
       "      <th>Rating</th>\n",
       "      <th>Price</th>\n",
       "      <th>Reviews</th>\n",
       "    </tr>\n",
       "  </thead>\n",
       "  <tbody>\n",
       "    <tr>\n",
       "      <th>0</th>\n",
       "      <td>Lenovo</td>\n",
       "      <td>8</td>\n",
       "      <td>Intel Celeron Dual</td>\n",
       "      <td>64 bit Windows 11 Operating</td>\n",
       "      <td>15.6 inch</td>\n",
       "      <td>4.0</td>\n",
       "      <td>23790</td>\n",
       "      <td>0</td>\n",
       "    </tr>\n",
       "    <tr>\n",
       "      <th>1</th>\n",
       "      <td>ASUS</td>\n",
       "      <td>8</td>\n",
       "      <td>Intel Core i5</td>\n",
       "      <td>64 bit Windows 11 Operating</td>\n",
       "      <td>15.6</td>\n",
       "      <td>4.3</td>\n",
       "      <td>38990</td>\n",
       "      <td>949</td>\n",
       "    </tr>\n",
       "    <tr>\n",
       "      <th>2</th>\n",
       "      <td>APPLE</td>\n",
       "      <td>8</td>\n",
       "      <td>Apple M2 Processor8</td>\n",
       "      <td>Mac OS Operating</td>\n",
       "      <td>13.6</td>\n",
       "      <td>4.7</td>\n",
       "      <td>107990</td>\n",
       "      <td>999</td>\n",
       "    </tr>\n",
       "    <tr>\n",
       "      <th>3</th>\n",
       "      <td>HP</td>\n",
       "      <td>8</td>\n",
       "      <td>AMD Ryzen 3</td>\n",
       "      <td>Windows 11 Operating</td>\n",
       "      <td>15.6</td>\n",
       "      <td>4.2</td>\n",
       "      <td>29490</td>\n",
       "      <td>1199</td>\n",
       "    </tr>\n",
       "    <tr>\n",
       "      <th>4</th>\n",
       "      <td>Infinix</td>\n",
       "      <td>8</td>\n",
       "      <td>Intel Core i3</td>\n",
       "      <td>64 bit Windows 11 Operating</td>\n",
       "      <td>15.6 inch</td>\n",
       "      <td>4.2</td>\n",
       "      <td>23990</td>\n",
       "      <td>35</td>\n",
       "    </tr>\n",
       "    <tr>\n",
       "      <th>...</th>\n",
       "      <td>...</td>\n",
       "      <td>...</td>\n",
       "      <td>...</td>\n",
       "      <td>...</td>\n",
       "      <td>...</td>\n",
       "      <td>...</td>\n",
       "      <td>...</td>\n",
       "      <td>...</td>\n",
       "    </tr>\n",
       "    <tr>\n",
       "      <th>526</th>\n",
       "      <td>HP</td>\n",
       "      <td>8</td>\n",
       "      <td>Intel Core i3</td>\n",
       "      <td>64 bit Windows 11 Operating</td>\n",
       "      <td>14 inch</td>\n",
       "      <td>4.3</td>\n",
       "      <td>38700</td>\n",
       "      <td>0</td>\n",
       "    </tr>\n",
       "    <tr>\n",
       "      <th>527</th>\n",
       "      <td>ASUS</td>\n",
       "      <td>4</td>\n",
       "      <td>Intel Celeron Dual</td>\n",
       "      <td>Chrome Operating</td>\n",
       "      <td>14</td>\n",
       "      <td>5.0</td>\n",
       "      <td>21430</td>\n",
       "      <td>3</td>\n",
       "    </tr>\n",
       "    <tr>\n",
       "      <th>528</th>\n",
       "      <td>DELL</td>\n",
       "      <td>8</td>\n",
       "      <td>Intel Core i5</td>\n",
       "      <td>Linux/Ubuntu Operating</td>\n",
       "      <td>14 inch</td>\n",
       "      <td>4.6</td>\n",
       "      <td>49960</td>\n",
       "      <td>7</td>\n",
       "    </tr>\n",
       "    <tr>\n",
       "      <th>529</th>\n",
       "      <td>APPLE</td>\n",
       "      <td>16</td>\n",
       "      <td>Apple M2 Pro</td>\n",
       "      <td>Mac OS Operating</td>\n",
       "      <td>14</td>\n",
       "      <td>5.0</td>\n",
       "      <td>234990</td>\n",
       "      <td>0</td>\n",
       "    </tr>\n",
       "    <tr>\n",
       "      <th>530</th>\n",
       "      <td>Infinix</td>\n",
       "      <td>16</td>\n",
       "      <td>Intel Core i5</td>\n",
       "      <td>Windows 11 Operating</td>\n",
       "      <td>14</td>\n",
       "      <td>4.0</td>\n",
       "      <td>37990</td>\n",
       "      <td>0</td>\n",
       "    </tr>\n",
       "  </tbody>\n",
       "</table>\n",
       "<p>531 rows × 8 columns</p>\n",
       "</div>"
      ],
      "text/plain": [
       "       Brand  RAM_GB            Processor                            OS  \\\n",
       "0     Lenovo       8   Intel Celeron Dual  64 bit Windows 11 Operating    \n",
       "1       ASUS       8        Intel Core i5  64 bit Windows 11 Operating    \n",
       "2      APPLE       8  Apple M2 Processor8             Mac OS Operating    \n",
       "3         HP       8          AMD Ryzen 3         Windows 11 Operating    \n",
       "4    Infinix       8        Intel Core i3  64 bit Windows 11 Operating    \n",
       "..       ...     ...                  ...                           ...   \n",
       "526       HP       8        Intel Core i3  64 bit Windows 11 Operating    \n",
       "527     ASUS       4   Intel Celeron Dual             Chrome Operating    \n",
       "528     DELL       8        Intel Core i5       Linux/Ubuntu Operating    \n",
       "529    APPLE      16         Apple M2 Pro             Mac OS Operating    \n",
       "530  Infinix      16        Intel Core i5         Windows 11 Operating    \n",
       "\n",
       "    Display_size(inch)  Rating   Price  Reviews  \n",
       "0            15.6 inch     4.0   23790        0  \n",
       "1                 15.6     4.3   38990      949  \n",
       "2                 13.6     4.7  107990      999  \n",
       "3                 15.6     4.2   29490     1199  \n",
       "4            15.6 inch     4.2   23990       35  \n",
       "..                 ...     ...     ...      ...  \n",
       "526            14 inch     4.3   38700        0  \n",
       "527                 14     5.0   21430        3  \n",
       "528            14 inch     4.6   49960        7  \n",
       "529                 14     5.0  234990        0  \n",
       "530                 14     4.0   37990        0  \n",
       "\n",
       "[531 rows x 8 columns]"
      ]
     },
     "execution_count": 7,
     "metadata": {},
     "output_type": "execute_result"
    }
   ],
   "source": [
    "df"
   ]
  },
  {
   "cell_type": "code",
   "execution_count": 8,
   "id": "342c1180",
   "metadata": {},
   "outputs": [
    {
     "data": {
      "text/plain": [
       "(531, 8)"
      ]
     },
     "execution_count": 8,
     "metadata": {},
     "output_type": "execute_result"
    }
   ],
   "source": [
    "df.shape    "
   ]
  },
  {
   "cell_type": "markdown",
   "id": "df23fc56",
   "metadata": {},
   "source": [
    "In our dataset we have 531 row and 8 columns"
   ]
  },
  {
   "cell_type": "code",
   "execution_count": null,
   "id": "b3166bdc",
   "metadata": {},
   "outputs": [],
   "source": []
  },
  {
   "cell_type": "markdown",
   "id": "ccf8a4b2",
   "metadata": {},
   "source": [
    "### Data type information"
   ]
  },
  {
   "cell_type": "code",
   "execution_count": 9,
   "id": "7a77fbac",
   "metadata": {},
   "outputs": [
    {
     "name": "stdout",
     "output_type": "stream",
     "text": [
      "<class 'pandas.core.frame.DataFrame'>\n",
      "RangeIndex: 531 entries, 0 to 530\n",
      "Data columns (total 8 columns):\n",
      " #   Column              Non-Null Count  Dtype  \n",
      "---  ------              --------------  -----  \n",
      " 0   Brand               531 non-null    object \n",
      " 1   RAM_GB              531 non-null    int64  \n",
      " 2   Processor           531 non-null    object \n",
      " 3   OS                  531 non-null    object \n",
      " 4   Display_size(inch)  531 non-null    object \n",
      " 5   Rating              531 non-null    float64\n",
      " 6   Price               531 non-null    int64  \n",
      " 7   Reviews             531 non-null    int64  \n",
      "dtypes: float64(1), int64(3), object(4)\n",
      "memory usage: 33.3+ KB\n"
     ]
    }
   ],
   "source": [
    "df.info()    # information about dataset(datatype of columns)"
   ]
  },
  {
   "cell_type": "markdown",
   "id": "349f0453",
   "metadata": {},
   "source": [
    "#### Statistical measurements"
   ]
  },
  {
   "cell_type": "code",
   "execution_count": 10,
   "id": "8908ef51",
   "metadata": {
    "scrolled": true
   },
   "outputs": [
    {
     "data": {
      "text/html": [
       "<div>\n",
       "<style scoped>\n",
       "    .dataframe tbody tr th:only-of-type {\n",
       "        vertical-align: middle;\n",
       "    }\n",
       "\n",
       "    .dataframe tbody tr th {\n",
       "        vertical-align: top;\n",
       "    }\n",
       "\n",
       "    .dataframe thead th {\n",
       "        text-align: right;\n",
       "    }\n",
       "</style>\n",
       "<table border=\"1\" class=\"dataframe\">\n",
       "  <thead>\n",
       "    <tr style=\"text-align: right;\">\n",
       "      <th></th>\n",
       "      <th>RAM_GB</th>\n",
       "      <th>Rating</th>\n",
       "      <th>Price</th>\n",
       "      <th>Reviews</th>\n",
       "    </tr>\n",
       "  </thead>\n",
       "  <tbody>\n",
       "    <tr>\n",
       "      <th>count</th>\n",
       "      <td>531.000000</td>\n",
       "      <td>531.000000</td>\n",
       "      <td>531.000000</td>\n",
       "      <td>531.000000</td>\n",
       "    </tr>\n",
       "    <tr>\n",
       "      <th>mean</th>\n",
       "      <td>11.822976</td>\n",
       "      <td>4.174388</td>\n",
       "      <td>59699.361582</td>\n",
       "      <td>100.380414</td>\n",
       "    </tr>\n",
       "    <tr>\n",
       "      <th>std</th>\n",
       "      <td>5.213075</td>\n",
       "      <td>0.735478</td>\n",
       "      <td>37487.469115</td>\n",
       "      <td>244.465853</td>\n",
       "    </tr>\n",
       "    <tr>\n",
       "      <th>min</th>\n",
       "      <td>4.000000</td>\n",
       "      <td>1.000000</td>\n",
       "      <td>9990.000000</td>\n",
       "      <td>0.000000</td>\n",
       "    </tr>\n",
       "    <tr>\n",
       "      <th>25%</th>\n",
       "      <td>8.000000</td>\n",
       "      <td>4.000000</td>\n",
       "      <td>36584.500000</td>\n",
       "      <td>0.000000</td>\n",
       "    </tr>\n",
       "    <tr>\n",
       "      <th>50%</th>\n",
       "      <td>8.000000</td>\n",
       "      <td>4.200000</td>\n",
       "      <td>50990.000000</td>\n",
       "      <td>10.000000</td>\n",
       "    </tr>\n",
       "    <tr>\n",
       "      <th>75%</th>\n",
       "      <td>16.000000</td>\n",
       "      <td>4.400000</td>\n",
       "      <td>68990.000000</td>\n",
       "      <td>62.500000</td>\n",
       "    </tr>\n",
       "    <tr>\n",
       "      <th>max</th>\n",
       "      <td>32.000000</td>\n",
       "      <td>5.000000</td>\n",
       "      <td>309990.000000</td>\n",
       "      <td>1847.000000</td>\n",
       "    </tr>\n",
       "  </tbody>\n",
       "</table>\n",
       "</div>"
      ],
      "text/plain": [
       "           RAM_GB      Rating          Price      Reviews\n",
       "count  531.000000  531.000000     531.000000   531.000000\n",
       "mean    11.822976    4.174388   59699.361582   100.380414\n",
       "std      5.213075    0.735478   37487.469115   244.465853\n",
       "min      4.000000    1.000000    9990.000000     0.000000\n",
       "25%      8.000000    4.000000   36584.500000     0.000000\n",
       "50%      8.000000    4.200000   50990.000000    10.000000\n",
       "75%     16.000000    4.400000   68990.000000    62.500000\n",
       "max     32.000000    5.000000  309990.000000  1847.000000"
      ]
     },
     "execution_count": 10,
     "metadata": {},
     "output_type": "execute_result"
    }
   ],
   "source": [
    "df.describe()"
   ]
  },
  {
   "cell_type": "markdown",
   "id": "eeaa497d",
   "metadata": {},
   "source": [
    "#### Insights\n",
    "\n",
    "* The average price of laptops are Rs.59,699.\n",
    "\n",
    "* Munimum  starting price of laptops are Rs.9,990."
   ]
  },
  {
   "cell_type": "code",
   "execution_count": null,
   "id": "5fd88d0d",
   "metadata": {},
   "outputs": [],
   "source": []
  },
  {
   "cell_type": "markdown",
   "id": "3a307778",
   "metadata": {},
   "source": [
    "### Missing values"
   ]
  },
  {
   "cell_type": "code",
   "execution_count": 11,
   "id": "da8663f2",
   "metadata": {},
   "outputs": [
    {
     "data": {
      "text/plain": [
       "Brand                 0\n",
       "RAM_GB                0\n",
       "Processor             0\n",
       "OS                    0\n",
       "Display_size(inch)    0\n",
       "Rating                0\n",
       "Price                 0\n",
       "Reviews               0\n",
       "dtype: int64"
      ]
     },
     "execution_count": 11,
     "metadata": {},
     "output_type": "execute_result"
    }
   ],
   "source": [
    "df.isna().sum()   #there is no missing values in our dataset"
   ]
  },
  {
   "cell_type": "code",
   "execution_count": null,
   "id": "d7cab1bd",
   "metadata": {},
   "outputs": [],
   "source": []
  },
  {
   "cell_type": "markdown",
   "id": "14cfc0b6",
   "metadata": {},
   "source": [
    "### Duplicate values"
   ]
  },
  {
   "cell_type": "code",
   "execution_count": 12,
   "id": "f9e5c926",
   "metadata": {},
   "outputs": [
    {
     "data": {
      "text/plain": [
       "3"
      ]
     },
     "execution_count": 12,
     "metadata": {},
     "output_type": "execute_result"
    }
   ],
   "source": [
    "df.duplicated().sum()    # there are 3 duplicate values in our dataset"
   ]
  },
  {
   "cell_type": "code",
   "execution_count": 13,
   "id": "ea30f3a0",
   "metadata": {},
   "outputs": [],
   "source": [
    "df.drop_duplicates(keep = 'first',inplace = True)    #dropping duplicates"
   ]
  },
  {
   "cell_type": "code",
   "execution_count": 14,
   "id": "0a795d96",
   "metadata": {},
   "outputs": [
    {
     "data": {
      "text/plain": [
       "0"
      ]
     },
     "execution_count": 14,
     "metadata": {},
     "output_type": "execute_result"
    }
   ],
   "source": [
    "df.duplicated().sum()"
   ]
  },
  {
   "cell_type": "markdown",
   "id": "06669255",
   "metadata": {},
   "source": [
    "### Checking corrupted data"
   ]
  },
  {
   "cell_type": "code",
   "execution_count": 15,
   "id": "f00d9cbb",
   "metadata": {},
   "outputs": [
    {
     "data": {
      "text/plain": [
       "Index(['Brand', 'RAM_GB', 'Processor', 'OS', 'Display_size(inch)', 'Rating',\n",
       "       'Price', 'Reviews'],\n",
       "      dtype='object')"
      ]
     },
     "execution_count": 15,
     "metadata": {},
     "output_type": "execute_result"
    }
   ],
   "source": [
    "df.columns"
   ]
  },
  {
   "cell_type": "code",
   "execution_count": 16,
   "id": "b2f1cc42",
   "metadata": {},
   "outputs": [
    {
     "data": {
      "text/plain": [
       "array(['Lenovo', 'ASUS', 'APPLE', 'HP', 'Infinix', 'Acer', 'DELL', 'MSI',\n",
       "       'Primebook', 'Ultimus', 'GIGABYTE', 'realme', 'SAMSUNG',\n",
       "       'ZEBRONICS', 'Wings', 'CHUWI', 'MICROSOFT', 'walker'], dtype=object)"
      ]
     },
     "execution_count": 16,
     "metadata": {},
     "output_type": "execute_result"
    }
   ],
   "source": [
    "df['Brand'].unique()"
   ]
  },
  {
   "cell_type": "code",
   "execution_count": 17,
   "id": "9937aaaa",
   "metadata": {},
   "outputs": [
    {
     "data": {
      "text/plain": [
       "dtype('O')"
      ]
     },
     "execution_count": 17,
     "metadata": {},
     "output_type": "execute_result"
    }
   ],
   "source": [
    "df['Brand'].dtype"
   ]
  },
  {
   "cell_type": "code",
   "execution_count": 18,
   "id": "6629dda8",
   "metadata": {},
   "outputs": [
    {
     "data": {
      "text/plain": [
       "array([ 8, 16,  4, 32, 18], dtype=int64)"
      ]
     },
     "execution_count": 18,
     "metadata": {},
     "output_type": "execute_result"
    }
   ],
   "source": [
    "df['RAM_GB'].unique()"
   ]
  },
  {
   "cell_type": "code",
   "execution_count": 19,
   "id": "da0c0d43",
   "metadata": {},
   "outputs": [
    {
     "data": {
      "text/plain": [
       "dtype('int64')"
      ]
     },
     "execution_count": 19,
     "metadata": {},
     "output_type": "execute_result"
    }
   ],
   "source": [
    "df['RAM_GB'].dtype"
   ]
  },
  {
   "cell_type": "markdown",
   "id": "08d5c207",
   "metadata": {},
   "source": [
    "#### currecting missmatch or scrapping errors"
   ]
  },
  {
   "cell_type": "code",
   "execution_count": 20,
   "id": "7c505aee",
   "metadata": {},
   "outputs": [
    {
     "data": {
      "text/plain": [
       "array(['Intel Celeron Dual', 'Intel Core i5', 'Apple M2 Processor8',\n",
       "       'AMD Ryzen 3', 'Intel Core i3', 'Processor: Intel i3-1215U',\n",
       "       'Intel Core i7', 'AMD Athlon Dual', 'AMD Ryzen 5',\n",
       "       'Processor: Intel i3-1115G4', 'Intel Celeron Quad',\n",
       "       'MediaTek MT8788 Processor4', 'AMD Ryzen 7', 'Intel Core i9',\n",
       "       'Stylish & Portable', 'Intel Pentium Quad',\n",
       "       'MediaTek MT8183 Processor4', 'Processor: Intel i5-1235U',\n",
       "       'Intel Ryzen 3', 'AMD Ryzen 9', 'Apple M3 Pro',\n",
       "       'Fan-less Design\\n(Low Power', 'Processor: Intel i7-1255U',\n",
       "       'Intel Hexa Core', 'Apple M2 Max', 'Apple M1 Processor8',\n",
       "       'Apple M1 Max', 'Apple M3 Processor8', 'Apple M2 Pro'],\n",
       "      dtype=object)"
      ]
     },
     "execution_count": 20,
     "metadata": {},
     "output_type": "execute_result"
    }
   ],
   "source": [
    "df['Processor'].unique()"
   ]
  },
  {
   "cell_type": "markdown",
   "id": "dcce9fe5",
   "metadata": {},
   "source": [
    "* While most processors start with their actual brand name like Intel or AMD, there are some different cases where Intel chips have been named as Processor : Intel, etc, let's clean this."
   ]
  },
  {
   "cell_type": "code",
   "execution_count": 21,
   "id": "054bb151",
   "metadata": {},
   "outputs": [],
   "source": [
    "df['Processor'] = df['Processor'].str.strip('Processor: ')"
   ]
  },
  {
   "cell_type": "code",
   "execution_count": 22,
   "id": "8004abdc",
   "metadata": {},
   "outputs": [
    {
     "data": {
      "text/plain": [
       "array(['Intel Celeron Dual', 'Intel Core i5', 'Apple M2 Processor8',\n",
       "       'AMD Ryzen 3', 'Intel Core i3', 'Intel i3-1215U', 'Intel Core i7',\n",
       "       'AMD Athlon Dual', 'AMD Ryzen 5', 'Intel i3-1115G4',\n",
       "       'Intel Celeron Quad', 'MediaTek MT8788 Processor4', 'AMD Ryzen 7',\n",
       "       'Intel Core i9', 'Stylish & Portabl', 'Intel Pentium Quad',\n",
       "       'MediaTek MT8183 Processor4', 'Intel i5-1235U', 'Intel Ryzen 3',\n",
       "       'AMD Ryzen 9', 'Apple M3', 'Fan-less Design\\n(Low Pow',\n",
       "       'Intel i7-1255U', 'Intel Hexa C', 'Apple M2 Max',\n",
       "       'Apple M1 Processor8', 'Apple M1 Max', 'Apple M3 Processor8',\n",
       "       'Apple M2'], dtype=object)"
      ]
     },
     "execution_count": 22,
     "metadata": {},
     "output_type": "execute_result"
    }
   ],
   "source": [
    "df.Processor.unique()"
   ]
  },
  {
   "cell_type": "markdown",
   "id": "e2f11eeb",
   "metadata": {},
   "source": [
    "We can also see that there are values like \"Fan-less Design\\n(Low Pow\", which do not come under any processor types, this seems to be a scraping issue. Lets see how many rows are affected by this."
   ]
  },
  {
   "cell_type": "code",
   "execution_count": 23,
   "id": "8e141d92",
   "metadata": {},
   "outputs": [
    {
     "data": {
      "text/html": [
       "<div>\n",
       "<style scoped>\n",
       "    .dataframe tbody tr th:only-of-type {\n",
       "        vertical-align: middle;\n",
       "    }\n",
       "\n",
       "    .dataframe tbody tr th {\n",
       "        vertical-align: top;\n",
       "    }\n",
       "\n",
       "    .dataframe thead th {\n",
       "        text-align: right;\n",
       "    }\n",
       "</style>\n",
       "<table border=\"1\" class=\"dataframe\">\n",
       "  <thead>\n",
       "    <tr style=\"text-align: right;\">\n",
       "      <th></th>\n",
       "      <th>Brand</th>\n",
       "      <th>RAM_GB</th>\n",
       "      <th>Processor</th>\n",
       "      <th>OS</th>\n",
       "      <th>Display_size(inch)</th>\n",
       "      <th>Rating</th>\n",
       "      <th>Price</th>\n",
       "      <th>Reviews</th>\n",
       "    </tr>\n",
       "  </thead>\n",
       "  <tbody>\n",
       "    <tr>\n",
       "      <th>304</th>\n",
       "      <td>CHUWI</td>\n",
       "      <td>4</td>\n",
       "      <td>Fan-less Design\\n(Low Pow</td>\n",
       "      <td>Intel 9th generation UHD GraphicsSupport 4K/60...</td>\n",
       "      <td>11.6 inch</td>\n",
       "      <td>5.0</td>\n",
       "      <td>15990</td>\n",
       "      <td>68</td>\n",
       "    </tr>\n",
       "    <tr>\n",
       "      <th>314</th>\n",
       "      <td>CHUWI</td>\n",
       "      <td>4</td>\n",
       "      <td>Fan-less Design\\n(Low Pow</td>\n",
       "      <td>Intel 9th generation UHD GraphicsSupport 4K/60...</td>\n",
       "      <td>11.6 inch</td>\n",
       "      <td>4.3</td>\n",
       "      <td>15990</td>\n",
       "      <td>1</td>\n",
       "    </tr>\n",
       "  </tbody>\n",
       "</table>\n",
       "</div>"
      ],
      "text/plain": [
       "     Brand  RAM_GB                  Processor  \\\n",
       "304  CHUWI       4  Fan-less Design\\n(Low Pow   \n",
       "314  CHUWI       4  Fan-less Design\\n(Low Pow   \n",
       "\n",
       "                                                    OS Display_size(inch)  \\\n",
       "304  Intel 9th generation UHD GraphicsSupport 4K/60...          11.6 inch   \n",
       "314  Intel 9th generation UHD GraphicsSupport 4K/60...          11.6 inch   \n",
       "\n",
       "     Rating  Price  Reviews  \n",
       "304     5.0  15990       68  \n",
       "314     4.3  15990        1  "
      ]
     },
     "execution_count": 23,
     "metadata": {},
     "output_type": "execute_result"
    }
   ],
   "source": [
    "df[df['Processor']=='Fan-less Design\\n(Low Pow']"
   ]
  },
  {
   "cell_type": "markdown",
   "id": "4fba4424",
   "metadata": {},
   "source": [
    "#### Replacing "
   ]
  },
  {
   "cell_type": "code",
   "execution_count": 24,
   "id": "5b2a16b2",
   "metadata": {},
   "outputs": [],
   "source": [
    "df['Processor']= df['Processor'].str.replace('Fan-less Design\\n(Low Pow','Intel Celeron Dual Core Processor')"
   ]
  },
  {
   "cell_type": "code",
   "execution_count": 25,
   "id": "292f1449",
   "metadata": {},
   "outputs": [
    {
     "data": {
      "text/html": [
       "<div>\n",
       "<style scoped>\n",
       "    .dataframe tbody tr th:only-of-type {\n",
       "        vertical-align: middle;\n",
       "    }\n",
       "\n",
       "    .dataframe tbody tr th {\n",
       "        vertical-align: top;\n",
       "    }\n",
       "\n",
       "    .dataframe thead th {\n",
       "        text-align: right;\n",
       "    }\n",
       "</style>\n",
       "<table border=\"1\" class=\"dataframe\">\n",
       "  <thead>\n",
       "    <tr style=\"text-align: right;\">\n",
       "      <th></th>\n",
       "      <th>Brand</th>\n",
       "      <th>RAM_GB</th>\n",
       "      <th>Processor</th>\n",
       "      <th>OS</th>\n",
       "      <th>Display_size(inch)</th>\n",
       "      <th>Rating</th>\n",
       "      <th>Price</th>\n",
       "      <th>Reviews</th>\n",
       "    </tr>\n",
       "  </thead>\n",
       "  <tbody>\n",
       "  </tbody>\n",
       "</table>\n",
       "</div>"
      ],
      "text/plain": [
       "Empty DataFrame\n",
       "Columns: [Brand, RAM_GB, Processor, OS, Display_size(inch), Rating, Price, Reviews]\n",
       "Index: []"
      ]
     },
     "execution_count": 25,
     "metadata": {},
     "output_type": "execute_result"
    }
   ],
   "source": [
    "df[df['Processor']=='Fan-less Design\\n(Low Pow']   #"
   ]
  },
  {
   "cell_type": "code",
   "execution_count": 26,
   "id": "c713f1ae",
   "metadata": {},
   "outputs": [
    {
     "data": {
      "text/plain": [
       "dtype('O')"
      ]
     },
     "execution_count": 26,
     "metadata": {},
     "output_type": "execute_result"
    }
   ],
   "source": [
    "df.Processor.dtype"
   ]
  },
  {
   "cell_type": "code",
   "execution_count": null,
   "id": "8bc91e31",
   "metadata": {},
   "outputs": [],
   "source": []
  },
  {
   "cell_type": "code",
   "execution_count": 27,
   "id": "35df174b",
   "metadata": {},
   "outputs": [
    {
     "data": {
      "text/plain": [
       "array(['64 bit Windows 11 Operating ', 'Mac OS Operating ',\n",
       "       'Windows 11 Operating ',\n",
       "       ' & Storage: 8GB DDR4 & 512GB SSDGraphics & Keyboard: Integrated & Standard KeyboardDisplay: 15.6\" FHD WVA AG 120Hz 250 nits Narrow BorderIntel Core i3 Processor (12th Gen)8 GB DDR4 ',\n",
       "       ' & Storage: 8GB DDR4 & 256GB SSDGraphics & Keyboard: Integrated & Standard KeyboardDisplay: 14.0\" FHD WVA AG Narrow Border 250 nitsPorts: 2 USB 3.2 Gen 1 ports, 1 USB 2.0 port, 1 Headset jack, 1 HDMI 1.4 port*,1 Flip-Down RJ-45 port 10/100/1000 Mbps, 1 SD 3.0 card slotFeature- Add Full Size spill resistent KB with a Larger Touchpad, 3 Side Narrow Border, Hardware TPM 2.0 for Security addIntel Core i3 Processor (11th Gen)8 GB DDR4 ',\n",
       "       'DOS Operating ', 'Prime OS Operating ',\n",
       "       ' -faster & low power consumingFirmware TPM (Trusted Platform Module)-Improved Security of your PCFHD 1080p screen with 250 Nits brightnessLatest WiFi 6AMD Ryzen 5 Quad Core Processor8 GB LPDDR5 ',\n",
       "       'Android Operating ',\n",
       "       ' & Storage: 8GB DDR4 & 512GB SSDGraphics & Keyboard: Integrated & Standard KeyboardDisplay: 15.6\" FHD WVA AG 120Hz 250 nits Narrow BorderIntel Core i5 Processor (12th Gen)8 GB DDR4 ',\n",
       "       '64 bit DOS Operating ',\n",
       "       ' & Storage: 8GB, 1x8GB, DDR4, 3200MHz, 512GB SSDDisplay: 14.0\" FHD+ WVA Truelife Touch Narrow Border 250 nits, Dell Active PenGraphics: Integrated, Keyboard: Backlit Keyboard + Fingerprint ReaderPorts: 1 HDMI out 1.4, 1 USB 3.2 Gen 1 Type-A , 2 USB 3.2 Gen 2x2 Type-C with PowerDelivery and Video, 1 3.5mm Headphone/Microphone combination jack, SD Card ReaderHeadphone/Microphone combination jack, SD Card ReaderIntel Core i3 Processor (12th Gen)8 GB DDR5 ',\n",
       "       'Windows 10 Operating ', 'Windows 11 Home Operating ',\n",
       "       'Intel 9th generation UHD GraphicsSupport 4K/60 Frames HDIntel Celeron Dual Core Processor (10th Gen)4 GB LPDDR4 ',\n",
       "       ' & Storage: 16GB DDR4 & 512GB SSDGraphics & Keyboard: NVIDIAGeForceMX550 (2GB GDDR6) + Fingerprint ReaderDisplay: 14.0\" FHD+ WVA Truelife Touch Narrow Border 250 nits, Dell Active PenIntel Core i7 Processor (12th Gen)16 GB DDR5 ',\n",
       "       'Chrome Operating ', '64 bit Windows 10 Operating ',\n",
       "       '64 bit Chrome Operating ', '64 bit Windows 11 Home Operating ',\n",
       "       ' & Storage: 16GB DDR4 & 512GB SSDGraphics & Keyboard: Integrated & Backlit Keyboard + Fingerprint ReaderDisplay: 14.0\" FHD+ WVA Truelife Touch Narrow Border 250 nits, Dell Active PenIntel Core i5 Processor (12th Gen)16 GB DDR4 ',\n",
       "       '32 bit Windows 11 Operating ',\n",
       "       ' & Storage: 8GB DDR4 & 1TB + 256GB SSDGraphics & Keyboard: Integrated & Standard KeyboardDisplay: 15.6\" FHD WVA AG 120Hz 250 nits Narrow BorderIntel Core i5 Processor (12th Gen)8 GB DDR4 ',\n",
       "       'Linux/Ubuntu Operating '], dtype=object)"
      ]
     },
     "execution_count": 27,
     "metadata": {},
     "output_type": "execute_result"
    }
   ],
   "source": [
    "df['OS'].unique()"
   ]
  },
  {
   "cell_type": "code",
   "execution_count": 28,
   "id": "493ec104",
   "metadata": {},
   "outputs": [
    {
     "data": {
      "text/plain": [
       "dtype('O')"
      ]
     },
     "execution_count": 28,
     "metadata": {},
     "output_type": "execute_result"
    }
   ],
   "source": [
    "df['OS'].dtype"
   ]
  },
  {
   "cell_type": "code",
   "execution_count": null,
   "id": "1a42c06d",
   "metadata": {},
   "outputs": [],
   "source": []
  },
  {
   "cell_type": "code",
   "execution_count": 29,
   "id": "3958bf9c",
   "metadata": {},
   "outputs": [
    {
     "data": {
      "text/plain": [
       "array(['15.6 inch', '15.6', '13.6', '14', '38 cm', '14 inch', 'ITW',\n",
       "       '15.36 inch', '11.6', '14.1 inch', '15 inch', '39.62 cm', '16',\n",
       "       '11.6 inch', '14.96 inch', '16.1', '16 inch', '17.3', '35.56 cm',\n",
       "       '15.3', '13.3', '13.4', 'All Models, Bluetooth Needed',\n",
       "       'Includes ADP', '33.78 cm', '13.3 inch', '17.3 inch', 'Trial Only',\n",
       "       '13 inch', '14.96 cm', '13.8', '16.2 inch', '14.1'], dtype=object)"
      ]
     },
     "execution_count": 29,
     "metadata": {},
     "output_type": "execute_result"
    }
   ],
   "source": [
    "df['Display_size(inch)'].unique()"
   ]
  },
  {
   "cell_type": "code",
   "execution_count": 30,
   "id": "a1a4665b",
   "metadata": {},
   "outputs": [
    {
     "data": {
      "text/plain": [
       "dtype('O')"
      ]
     },
     "execution_count": 30,
     "metadata": {},
     "output_type": "execute_result"
    }
   ],
   "source": [
    "df['Display_size(inch)'].dtype"
   ]
  },
  {
   "cell_type": "markdown",
   "id": "72266e8a",
   "metadata": {},
   "source": [
    "#### Converting cm in inches"
   ]
  },
  {
   "cell_type": "code",
   "execution_count": 31,
   "id": "16553e82",
   "metadata": {},
   "outputs": [],
   "source": [
    "df['Display_size(inch)'].replace({\"39.62 cm\": \"15 inch\", \"38 cm\": \"15 inch\",\"ITW\":\"15 inch\",\"35.56 cm\":\"14\",\"33.78 cm\":\"13.29\",\"14.96 cm\":\"14\"}, inplace=True)"
   ]
  },
  {
   "cell_type": "code",
   "execution_count": 32,
   "id": "7c4d001d",
   "metadata": {},
   "outputs": [],
   "source": [
    "df['Display_size(inch)'] = df['Display_size(inch)'].str.replace(' inch','')\n",
    "df['Display_size(inch)'] = df['Display_size(inch)'].str.replace(' ','')\n",
    "df['Display_size(inch)'] = df['Display_size(inch)'].str.replace(',','')"
   ]
  },
  {
   "cell_type": "code",
   "execution_count": 33,
   "id": "74b997e1",
   "metadata": {},
   "outputs": [],
   "source": [
    "def rep(n):\n",
    "    if n.isalpha():              # removing alpha values \n",
    "        return np.nan\n",
    "    else:\n",
    "        return n\n",
    "df['Display_size(inch)'] = df['Display_size(inch)'].apply(rep)"
   ]
  },
  {
   "cell_type": "code",
   "execution_count": 34,
   "id": "698e2bf5",
   "metadata": {},
   "outputs": [
    {
     "data": {
      "text/plain": [
       "array(['15.6', '13.6', '14', '15', '15.36', '11.6', '14.1', '16', '14.96',\n",
       "       '16.1', '17.3', '15.3', '13.3', '13.4', nan, '13.29', '13', '13.8',\n",
       "       '16.2'], dtype=object)"
      ]
     },
     "execution_count": 34,
     "metadata": {},
     "output_type": "execute_result"
    }
   ],
   "source": [
    "df['Display_size(inch)'].unique()"
   ]
  },
  {
   "cell_type": "code",
   "execution_count": null,
   "id": "76ce3dcf",
   "metadata": {},
   "outputs": [],
   "source": []
  },
  {
   "cell_type": "code",
   "execution_count": 35,
   "id": "f81c33b6",
   "metadata": {},
   "outputs": [
    {
     "data": {
      "text/plain": [
       "5"
      ]
     },
     "execution_count": 35,
     "metadata": {},
     "output_type": "execute_result"
    }
   ],
   "source": [
    "df['Display_size(inch)'].isna().sum()#missing values"
   ]
  },
  {
   "cell_type": "markdown",
   "id": "eaf40028",
   "metadata": {},
   "source": [
    "#### Replacing nan values"
   ]
  },
  {
   "cell_type": "code",
   "execution_count": 36,
   "id": "eb699665",
   "metadata": {},
   "outputs": [],
   "source": [
    "df['Display_size(inch)'] = df['Display_size(inch)'].astype('float16')"
   ]
  },
  {
   "cell_type": "code",
   "execution_count": 37,
   "id": "240d4ef5",
   "metadata": {},
   "outputs": [
    {
     "data": {
      "text/plain": [
       "(15.04, 15.6)"
      ]
     },
     "execution_count": 37,
     "metadata": {},
     "output_type": "execute_result"
    }
   ],
   "source": [
    "df['Display_size(inch)'].mean(), df['Display_size(inch)'].median() #mean and median value is little closer."
   ]
  },
  {
   "cell_type": "code",
   "execution_count": 38,
   "id": "69754fa1",
   "metadata": {},
   "outputs": [],
   "source": [
    "df['Display_size(inch)'].fillna(df['Display_size(inch)'].median(),inplace = True) \n",
    "# it is partially normally distributed so we are feeling this values by median."
   ]
  },
  {
   "cell_type": "code",
   "execution_count": 39,
   "id": "a0f957cd",
   "metadata": {},
   "outputs": [
    {
     "data": {
      "text/plain": [
       "array([15.6 , 13.6 , 14.  , 15.  , 15.36, 11.6 , 14.1 , 16.  , 14.96,\n",
       "       16.1 , 17.3 , 15.3 , 13.3 , 13.4 , 13.29, 13.  , 13.8 , 16.2 ],\n",
       "      dtype=float16)"
      ]
     },
     "execution_count": 39,
     "metadata": {},
     "output_type": "execute_result"
    }
   ],
   "source": [
    "df['Display_size(inch)'].unique()"
   ]
  },
  {
   "cell_type": "code",
   "execution_count": null,
   "id": "483105f4",
   "metadata": {},
   "outputs": [],
   "source": []
  },
  {
   "cell_type": "code",
   "execution_count": 40,
   "id": "1a988a43",
   "metadata": {},
   "outputs": [
    {
     "data": {
      "text/plain": [
       "array([4. , 4.3, 4.7, 4.2, 4.1, 4.4, 3.9, 5. , 1. , 3.8, 3.3, 3. , 4.5,\n",
       "       2. , 4.6, 3.1, 3.5, 3.7, 3.6, 3.4, 4.8])"
      ]
     },
     "execution_count": 40,
     "metadata": {},
     "output_type": "execute_result"
    }
   ],
   "source": [
    "df['Rating'].unique()"
   ]
  },
  {
   "cell_type": "code",
   "execution_count": 41,
   "id": "03d1677c",
   "metadata": {},
   "outputs": [
    {
     "data": {
      "text/plain": [
       "array([ 23790,  38990, 107990,  29490,  23990,  26990,  35399,  47990,\n",
       "        28990,  37990,  34490,  30990,  39749,  18999,  33140,  27990,\n",
       "        31990,  35990,  36990,  41990,  32990,  41999,  42990,  33999,\n",
       "        44990,  25617,  32499,  29990,  11990,  27890,  33990,  34990,\n",
       "        25990,  51990,  45990,  60990,  15990,  51999, 164990,  79990,\n",
       "        31490,  56999,  35490,  52990,  57990,  58990,  49990,  39990,\n",
       "        62990,  49580,  48990,  61990,  22990,  46990,  47790,  33490,\n",
       "        34890,  28780,  59990,  54990,  50990,  45490,  18990,  64990,\n",
       "        54490,  10990,  99990,  29980,  59100,  66990,  58790,  74990,\n",
       "        53400,  65990,  38490,  83990,  77490,  96990,  29790,  52490,\n",
       "        24990,  36380,  52890,  49000,  59500,  89990,  57490,  47999,\n",
       "        36790,  71990, 100990, 124990,  32980,  76900,  48500,  40990,\n",
       "        53990,  55990,  94990,  70990,  62999,  56990,  37390,  80490,\n",
       "        30849, 144990,  34099, 110990,  88990, 104990,  73990, 115990,\n",
       "       134990,  69390,  46999,  37289,  41500,  49490,  21990,  23490,\n",
       "        54998,  47490,  68990,  39480,  77990,  60890,  90490,  69990,\n",
       "        84999,  87990, 109990,  63990, 139990,  77889,  30650, 126990,\n",
       "       199900,  35997,  95990,  14490,  99999, 140990,  47500, 105990,\n",
       "        51498,  37450, 290990,  72990,  75990, 115590,  26000,  39000,\n",
       "       122590, 113990,  52000,  34800, 135990,  82990,  53290,  85490,\n",
       "        98990,  84990,  21500,  78788,  97990,  90990,  85888, 116990,\n",
       "       117990,  67990, 242690, 183990,  75533,  37999, 185990,  93990,\n",
       "        26500,  80990,  23005, 189990,  53415,  42200,  43990,  18490,\n",
       "        57690,  53999,  36789,  76990,  71890,  56340,  71390, 131990,\n",
       "        21440,  67499,  31999,  51487,  63490,  95490,  88490,  86990,\n",
       "        26861, 122475,  62590,  64490, 112990,  37490,  63786, 108100,\n",
       "        52390,  85790, 249990, 309990, 189900,  91590,  66390,  60500,\n",
       "        30000,   9990,  38290,  70000,  63890, 182500, 111990,  38700,\n",
       "        21430,  49960, 234990], dtype=int64)"
      ]
     },
     "execution_count": 41,
     "metadata": {},
     "output_type": "execute_result"
    }
   ],
   "source": [
    "df['Price'].unique()"
   ]
  },
  {
   "cell_type": "code",
   "execution_count": 42,
   "id": "6b4e320a",
   "metadata": {},
   "outputs": [
    {
     "data": {
      "text/plain": [
       "array([   0,  949,  999, 1199,   35,  166,   55,  137,    1,  430,    5,\n",
       "        106,   82,   17,   86,   42,  160,   33,   14,  117,   11,  121,\n",
       "         93,   24,   18,   31,  283,   16,  670,  215,   73,    7,  315,\n",
       "        198,  131,    8,   13,   15,   58,   79,    4,    6,  314,   84,\n",
       "         92,    3,  124,   10,   60,  519,   21,   22,    2,   39,  240,\n",
       "         12,  274,   32,  438,  181,   75,  261,   40,   26,    9,  565,\n",
       "         30, 1847,  194,   28,   67,   54,  575,   66,  270,  148,  500,\n",
       "         27,  346,   20,  100,  141,  248,   94,  109,  255,   48,  350,\n",
       "         76,   53,   25,   89,   59,  399,   29,   68,  193,   64,  254,\n",
       "         19,  105,  409,  122,  226,   41,  239,   61,  118,   80,  158,\n",
       "        126,  177,  323,   46,  120,  364,  213,   49,  172,   88,   50,\n",
       "         51,  513,   37,   65,  200,   72], dtype=int64)"
      ]
     },
     "execution_count": 42,
     "metadata": {},
     "output_type": "execute_result"
    }
   ],
   "source": [
    "df['Reviews'].unique()"
   ]
  },
  {
   "cell_type": "code",
   "execution_count": null,
   "id": "130fb46b",
   "metadata": {},
   "outputs": [],
   "source": []
  },
  {
   "cell_type": "markdown",
   "id": "194dab85",
   "metadata": {},
   "source": [
    "### Type casting"
   ]
  },
  {
   "cell_type": "code",
   "execution_count": 43,
   "id": "db44f890",
   "metadata": {},
   "outputs": [],
   "source": [
    "df['RAM_GB']=df['RAM_GB'].astype('int8')\n",
    "df['Display_size(inch)'] = df['Display_size(inch)'].astype('float16')\n",
    "df['Price']=df['Price'].astype('float64')"
   ]
  },
  {
   "cell_type": "code",
   "execution_count": 44,
   "id": "f42e091a",
   "metadata": {},
   "outputs": [
    {
     "name": "stdout",
     "output_type": "stream",
     "text": [
      "<class 'pandas.core.frame.DataFrame'>\n",
      "Index: 528 entries, 0 to 530\n",
      "Data columns (total 8 columns):\n",
      " #   Column              Non-Null Count  Dtype  \n",
      "---  ------              --------------  -----  \n",
      " 0   Brand               528 non-null    object \n",
      " 1   RAM_GB              528 non-null    int8   \n",
      " 2   Processor           528 non-null    object \n",
      " 3   OS                  528 non-null    object \n",
      " 4   Display_size(inch)  528 non-null    float16\n",
      " 5   Rating              528 non-null    float64\n",
      " 6   Price               528 non-null    float64\n",
      " 7   Reviews             528 non-null    int64  \n",
      "dtypes: float16(1), float64(2), int64(1), int8(1), object(3)\n",
      "memory usage: 30.4+ KB\n"
     ]
    }
   ],
   "source": [
    "df.info()"
   ]
  },
  {
   "cell_type": "code",
   "execution_count": 45,
   "id": "7bef0aa8",
   "metadata": {},
   "outputs": [],
   "source": [
    "# by doing dype casting we reduces memory use of our data."
   ]
  },
  {
   "cell_type": "markdown",
   "id": "aa2f69ca",
   "metadata": {},
   "source": [
    "## Finding  Outliers"
   ]
  },
  {
   "cell_type": "code",
   "execution_count": 46,
   "id": "e37acc4a",
   "metadata": {},
   "outputs": [],
   "source": [
    "num = df.select_dtypes(include='number')"
   ]
  },
  {
   "cell_type": "code",
   "execution_count": 47,
   "id": "e01c920c",
   "metadata": {},
   "outputs": [
    {
     "data": {
      "image/png": "[encoded data removed]",
      "text/plain": [
       "<Figure size 640x480 with 1 Axes>"
      ]
     },
     "metadata": {},
     "output_type": "display_data"
    },
    {
     "data": {
      "image/png": "[encoded data removed]",
      "text/plain": [
       "<Figure size 640x480 with 1 Axes>"
      ]
     },
     "metadata": {},
     "output_type": "display_data"
    },
    {
     "data": {
      "image/png": "[encoded data removed]",
      "text/plain": [
       "<Figure size 640x480 with 1 Axes>"
      ]
     },
     "metadata": {},
     "output_type": "display_data"
    },
    {
     "data": {
      "image/png": "[encoded data removed]",
      "text/plain": [
       "<Figure size 640x480 with 1 Axes>"
      ]
     },
     "metadata": {},
     "output_type": "display_data"
    },
    {
     "data": {
      "image/png": "[encoded data removed]",
      "text/plain": [
       "<Figure size 640x480 with 1 Axes>"
      ]
     },
     "metadata": {},
     "output_type": "display_data"
    }
   ],
   "source": [
    "for i in num:\n",
    "    sns.boxplot(df[i])\n",
    "    plt.show()"
   ]
  },
  {
   "cell_type": "code",
   "execution_count": null,
   "id": "ef8a314c",
   "metadata": {},
   "outputs": [],
   "source": []
  },
  {
   "cell_type": "code",
   "execution_count": 48,
   "id": "619d8c66",
   "metadata": {},
   "outputs": [
    {
     "data": {
      "image/png": "[encoded data removed]",
      "text/plain": [
       "<Figure size 500x400 with 1 Axes>"
      ]
     },
     "metadata": {},
     "output_type": "display_data"
    }
   ],
   "source": [
    "df['Price'].plot(kind = 'box',figsize = (5,4))\n",
    "plt.show()"
   ]
  },
  {
   "cell_type": "markdown",
   "id": "17f493a6",
   "metadata": {},
   "source": [
    "**Insights** ---> any value which is lesser than lower limit and and greater than upper limit is called outliers.\n",
    "\n",
    "\n",
    "**Price** -----> From price column outlier are at upper limit that is (12 to 3 lacks). but these are **true** values. so we can't remove it.\n",
    "\n",
    "**Ratings**----->From Rating columns outlier are there. below  lower limit. that is 3.5 to 1.0. But as we can see rating ranges btw (0 to 5) so that these are true values. \n",
    "\n",
    "\n",
    "**Displace(inch)** ----> From display inch there is no outliers."
   ]
  },
  {
   "cell_type": "code",
   "execution_count": null,
   "id": "bcaebd2f",
   "metadata": {},
   "outputs": [],
   "source": []
  },
  {
   "cell_type": "code",
   "execution_count": null,
   "id": "d9f46e5a",
   "metadata": {},
   "outputs": [],
   "source": []
  },
  {
   "cell_type": "markdown",
   "id": "6785d614",
   "metadata": {},
   "source": [
    "### Fixing columns for better understanding "
   ]
  },
  {
   "cell_type": "markdown",
   "id": "ee0c813e",
   "metadata": {},
   "source": [
    "Creating another column **main_os** from the column **OS**"
   ]
  },
  {
   "cell_type": "code",
   "execution_count": 49,
   "id": "5021488e",
   "metadata": {},
   "outputs": [],
   "source": [
    "df['processor_brand'] = df['Processor'].apply(lambda s : s.split(' ')[0])"
   ]
  },
  {
   "cell_type": "code",
   "execution_count": 50,
   "id": "12a724d4",
   "metadata": {},
   "outputs": [
    {
     "data": {
      "text/plain": [
       "array(['Intel', 'Apple', 'AMD', 'MediaTek', 'Stylish'], dtype=object)"
      ]
     },
     "execution_count": 50,
     "metadata": {},
     "output_type": "execute_result"
    }
   ],
   "source": [
    "df['processor_brand'].unique()"
   ]
  },
  {
   "cell_type": "markdown",
   "id": "ecd63408",
   "metadata": {},
   "source": [
    "* **we have 5 brands of processors.**"
   ]
  },
  {
   "cell_type": "markdown",
   "id": "531dc2ed",
   "metadata": {},
   "source": [
    "###### Essentially, we have 5 brands of processors. Lets look at which of them generate good sales revenue."
   ]
  },
  {
   "cell_type": "code",
   "execution_count": 51,
   "id": "0a05be39",
   "metadata": {},
   "outputs": [
    {
     "data": {
      "text/html": [
       "<div>\n",
       "<style scoped>\n",
       "    .dataframe tbody tr th:only-of-type {\n",
       "        vertical-align: middle;\n",
       "    }\n",
       "\n",
       "    .dataframe tbody tr th {\n",
       "        vertical-align: top;\n",
       "    }\n",
       "\n",
       "    .dataframe thead th {\n",
       "        text-align: right;\n",
       "    }\n",
       "</style>\n",
       "<table border=\"1\" class=\"dataframe\">\n",
       "  <thead>\n",
       "    <tr style=\"text-align: right;\">\n",
       "      <th></th>\n",
       "      <th>Price</th>\n",
       "    </tr>\n",
       "    <tr>\n",
       "      <th>processor_brand</th>\n",
       "      <th></th>\n",
       "    </tr>\n",
       "  </thead>\n",
       "  <tbody>\n",
       "    <tr>\n",
       "      <th>Intel</th>\n",
       "      <td>20862618.0</td>\n",
       "    </tr>\n",
       "    <tr>\n",
       "      <th>AMD</th>\n",
       "      <td>7786273.0</td>\n",
       "    </tr>\n",
       "    <tr>\n",
       "      <th>Apple</th>\n",
       "      <td>2757650.0</td>\n",
       "    </tr>\n",
       "    <tr>\n",
       "      <th>Stylish</th>\n",
       "      <td>66980.0</td>\n",
       "    </tr>\n",
       "    <tr>\n",
       "      <th>MediaTek</th>\n",
       "      <td>33970.0</td>\n",
       "    </tr>\n",
       "  </tbody>\n",
       "</table>\n",
       "</div>"
      ],
      "text/plain": [
       "                      Price\n",
       "processor_brand            \n",
       "Intel            20862618.0\n",
       "AMD               7786273.0\n",
       "Apple             2757650.0\n",
       "Stylish             66980.0\n",
       "MediaTek            33970.0"
      ]
     },
     "execution_count": 51,
     "metadata": {},
     "output_type": "execute_result"
    }
   ],
   "source": [
    "df.groupby('processor_brand').agg({'Price':'sum'}).sort_values('Price',ascending=False)"
   ]
  },
  {
   "cell_type": "markdown",
   "id": "b53342d6",
   "metadata": {},
   "source": [
    "###### We can see that, Intel brings in the most sales revenue followed by AMD."
   ]
  },
  {
   "cell_type": "code",
   "execution_count": 52,
   "id": "c743c2b6",
   "metadata": {},
   "outputs": [
    {
     "data": {
      "text/html": [
       "<div>\n",
       "<style scoped>\n",
       "    .dataframe tbody tr th:only-of-type {\n",
       "        vertical-align: middle;\n",
       "    }\n",
       "\n",
       "    .dataframe tbody tr th {\n",
       "        vertical-align: top;\n",
       "    }\n",
       "\n",
       "    .dataframe thead th {\n",
       "        text-align: right;\n",
       "    }\n",
       "</style>\n",
       "<table border=\"1\" class=\"dataframe\">\n",
       "  <thead>\n",
       "    <tr style=\"text-align: right;\">\n",
       "      <th></th>\n",
       "      <th>Brand</th>\n",
       "      <th>RAM_GB</th>\n",
       "      <th>Processor</th>\n",
       "      <th>OS</th>\n",
       "      <th>Display_size(inch)</th>\n",
       "      <th>Rating</th>\n",
       "      <th>Price</th>\n",
       "      <th>Reviews</th>\n",
       "      <th>processor_brand</th>\n",
       "    </tr>\n",
       "  </thead>\n",
       "  <tbody>\n",
       "    <tr>\n",
       "      <th>0</th>\n",
       "      <td>Lenovo</td>\n",
       "      <td>8</td>\n",
       "      <td>Intel Celeron Dual</td>\n",
       "      <td>64 bit Windows 11 Operating</td>\n",
       "      <td>15.601562</td>\n",
       "      <td>4.0</td>\n",
       "      <td>23790.0</td>\n",
       "      <td>0</td>\n",
       "      <td>Intel</td>\n",
       "    </tr>\n",
       "    <tr>\n",
       "      <th>1</th>\n",
       "      <td>ASUS</td>\n",
       "      <td>8</td>\n",
       "      <td>Intel Core i5</td>\n",
       "      <td>64 bit Windows 11 Operating</td>\n",
       "      <td>15.601562</td>\n",
       "      <td>4.3</td>\n",
       "      <td>38990.0</td>\n",
       "      <td>949</td>\n",
       "      <td>Intel</td>\n",
       "    </tr>\n",
       "    <tr>\n",
       "      <th>2</th>\n",
       "      <td>APPLE</td>\n",
       "      <td>8</td>\n",
       "      <td>Apple M2 Processor8</td>\n",
       "      <td>Mac OS Operating</td>\n",
       "      <td>13.601562</td>\n",
       "      <td>4.7</td>\n",
       "      <td>107990.0</td>\n",
       "      <td>999</td>\n",
       "      <td>Apple</td>\n",
       "    </tr>\n",
       "    <tr>\n",
       "      <th>3</th>\n",
       "      <td>HP</td>\n",
       "      <td>8</td>\n",
       "      <td>AMD Ryzen 3</td>\n",
       "      <td>Windows 11 Operating</td>\n",
       "      <td>15.601562</td>\n",
       "      <td>4.2</td>\n",
       "      <td>29490.0</td>\n",
       "      <td>1199</td>\n",
       "      <td>AMD</td>\n",
       "    </tr>\n",
       "    <tr>\n",
       "      <th>4</th>\n",
       "      <td>Infinix</td>\n",
       "      <td>8</td>\n",
       "      <td>Intel Core i3</td>\n",
       "      <td>64 bit Windows 11 Operating</td>\n",
       "      <td>15.601562</td>\n",
       "      <td>4.2</td>\n",
       "      <td>23990.0</td>\n",
       "      <td>35</td>\n",
       "      <td>Intel</td>\n",
       "    </tr>\n",
       "  </tbody>\n",
       "</table>\n",
       "</div>"
      ],
      "text/plain": [
       "     Brand  RAM_GB            Processor                            OS  \\\n",
       "0   Lenovo       8   Intel Celeron Dual  64 bit Windows 11 Operating    \n",
       "1     ASUS       8        Intel Core i5  64 bit Windows 11 Operating    \n",
       "2    APPLE       8  Apple M2 Processor8             Mac OS Operating    \n",
       "3       HP       8          AMD Ryzen 3         Windows 11 Operating    \n",
       "4  Infinix       8        Intel Core i3  64 bit Windows 11 Operating    \n",
       "\n",
       "   Display_size(inch)  Rating     Price  Reviews processor_brand  \n",
       "0           15.601562     4.0   23790.0        0           Intel  \n",
       "1           15.601562     4.3   38990.0      949           Intel  \n",
       "2           13.601562     4.7  107990.0      999           Apple  \n",
       "3           15.601562     4.2   29490.0     1199             AMD  \n",
       "4           15.601562     4.2   23990.0       35           Intel  "
      ]
     },
     "execution_count": 52,
     "metadata": {},
     "output_type": "execute_result"
    }
   ],
   "source": [
    "df.head(5)"
   ]
  },
  {
   "cell_type": "code",
   "execution_count": null,
   "id": "f7f51f65",
   "metadata": {},
   "outputs": [],
   "source": []
  },
  {
   "cell_type": "markdown",
   "id": "ed69da51",
   "metadata": {},
   "source": [
    "### os"
   ]
  },
  {
   "cell_type": "code",
   "execution_count": 53,
   "id": "0449dcfb",
   "metadata": {},
   "outputs": [
    {
     "data": {
      "text/plain": [
       "array(['64 bit Windows 11 Operating ', 'Mac OS Operating ',\n",
       "       'Windows 11 Operating ',\n",
       "       ' & Storage: 8GB DDR4 & 512GB SSDGraphics & Keyboard: Integrated & Standard KeyboardDisplay: 15.6\" FHD WVA AG 120Hz 250 nits Narrow BorderIntel Core i3 Processor (12th Gen)8 GB DDR4 ',\n",
       "       ' & Storage: 8GB DDR4 & 256GB SSDGraphics & Keyboard: Integrated & Standard KeyboardDisplay: 14.0\" FHD WVA AG Narrow Border 250 nitsPorts: 2 USB 3.2 Gen 1 ports, 1 USB 2.0 port, 1 Headset jack, 1 HDMI 1.4 port*,1 Flip-Down RJ-45 port 10/100/1000 Mbps, 1 SD 3.0 card slotFeature- Add Full Size spill resistent KB with a Larger Touchpad, 3 Side Narrow Border, Hardware TPM 2.0 for Security addIntel Core i3 Processor (11th Gen)8 GB DDR4 ',\n",
       "       'DOS Operating ', 'Prime OS Operating ',\n",
       "       ' -faster & low power consumingFirmware TPM (Trusted Platform Module)-Improved Security of your PCFHD 1080p screen with 250 Nits brightnessLatest WiFi 6AMD Ryzen 5 Quad Core Processor8 GB LPDDR5 ',\n",
       "       'Android Operating ',\n",
       "       ' & Storage: 8GB DDR4 & 512GB SSDGraphics & Keyboard: Integrated & Standard KeyboardDisplay: 15.6\" FHD WVA AG 120Hz 250 nits Narrow BorderIntel Core i5 Processor (12th Gen)8 GB DDR4 ',\n",
       "       '64 bit DOS Operating ',\n",
       "       ' & Storage: 8GB, 1x8GB, DDR4, 3200MHz, 512GB SSDDisplay: 14.0\" FHD+ WVA Truelife Touch Narrow Border 250 nits, Dell Active PenGraphics: Integrated, Keyboard: Backlit Keyboard + Fingerprint ReaderPorts: 1 HDMI out 1.4, 1 USB 3.2 Gen 1 Type-A , 2 USB 3.2 Gen 2x2 Type-C with PowerDelivery and Video, 1 3.5mm Headphone/Microphone combination jack, SD Card ReaderHeadphone/Microphone combination jack, SD Card ReaderIntel Core i3 Processor (12th Gen)8 GB DDR5 ',\n",
       "       'Windows 10 Operating ', 'Windows 11 Home Operating ',\n",
       "       'Intel 9th generation UHD GraphicsSupport 4K/60 Frames HDIntel Celeron Dual Core Processor (10th Gen)4 GB LPDDR4 ',\n",
       "       ' & Storage: 16GB DDR4 & 512GB SSDGraphics & Keyboard: NVIDIAGeForceMX550 (2GB GDDR6) + Fingerprint ReaderDisplay: 14.0\" FHD+ WVA Truelife Touch Narrow Border 250 nits, Dell Active PenIntel Core i7 Processor (12th Gen)16 GB DDR5 ',\n",
       "       'Chrome Operating ', '64 bit Windows 10 Operating ',\n",
       "       '64 bit Chrome Operating ', '64 bit Windows 11 Home Operating ',\n",
       "       ' & Storage: 16GB DDR4 & 512GB SSDGraphics & Keyboard: Integrated & Backlit Keyboard + Fingerprint ReaderDisplay: 14.0\" FHD+ WVA Truelife Touch Narrow Border 250 nits, Dell Active PenIntel Core i5 Processor (12th Gen)16 GB DDR4 ',\n",
       "       '32 bit Windows 11 Operating ',\n",
       "       ' & Storage: 8GB DDR4 & 1TB + 256GB SSDGraphics & Keyboard: Integrated & Standard KeyboardDisplay: 15.6\" FHD WVA AG 120Hz 250 nits Narrow BorderIntel Core i5 Processor (12th Gen)8 GB DDR4 ',\n",
       "       'Linux/Ubuntu Operating '], dtype=object)"
      ]
     },
     "execution_count": 53,
     "metadata": {},
     "output_type": "execute_result"
    }
   ],
   "source": [
    "df['OS'].unique()"
   ]
  },
  {
   "cell_type": "code",
   "execution_count": null,
   "id": "e3a0d1fd",
   "metadata": {},
   "outputs": [],
   "source": []
  },
  {
   "cell_type": "code",
   "execution_count": 54,
   "id": "6e3396e4",
   "metadata": {},
   "outputs": [],
   "source": [
    "import re"
   ]
  },
  {
   "cell_type": "markdown",
   "id": "34f90685",
   "metadata": {},
   "source": [
    "**Creating another column main_os from the column OS**"
   ]
  },
  {
   "cell_type": "code",
   "execution_count": 55,
   "id": "fc256cac",
   "metadata": {},
   "outputs": [],
   "source": [
    "main_os = ['Windows', 'Mac OS', 'DOS', 'Prime OS', 'Chrome', 'Android', 'Linux/Ubuntu']\n",
    "\n",
    "# Use str.extract to find the first pattern that matches and create a new 'main_os' column\n",
    "df['main_os'] = df['OS'].str.extract(f\"({'|'.join(main_os)})\", flags=re.IGNORECASE)"
   ]
  },
  {
   "cell_type": "code",
   "execution_count": 56,
   "id": "62ffd8f1",
   "metadata": {},
   "outputs": [
    {
     "data": {
      "text/plain": [
       "0           Windows\n",
       "1           Windows\n",
       "2            Mac OS\n",
       "3           Windows\n",
       "4           Windows\n",
       "           ...     \n",
       "526         Windows\n",
       "527          Chrome\n",
       "528    Linux/Ubuntu\n",
       "529          Mac OS\n",
       "530         Windows\n",
       "Name: main_os, Length: 528, dtype: object"
      ]
     },
     "execution_count": 56,
     "metadata": {},
     "output_type": "execute_result"
    }
   ],
   "source": [
    "df['main_os']"
   ]
  },
  {
   "cell_type": "code",
   "execution_count": 57,
   "id": "ef6486bb",
   "metadata": {
    "scrolled": true
   },
   "outputs": [
    {
     "data": {
      "text/html": [
       "<div>\n",
       "<style scoped>\n",
       "    .dataframe tbody tr th:only-of-type {\n",
       "        vertical-align: middle;\n",
       "    }\n",
       "\n",
       "    .dataframe tbody tr th {\n",
       "        vertical-align: top;\n",
       "    }\n",
       "\n",
       "    .dataframe thead th {\n",
       "        text-align: right;\n",
       "    }\n",
       "</style>\n",
       "<table border=\"1\" class=\"dataframe\">\n",
       "  <thead>\n",
       "    <tr style=\"text-align: right;\">\n",
       "      <th></th>\n",
       "      <th>Brand</th>\n",
       "      <th>RAM_GB</th>\n",
       "      <th>Processor</th>\n",
       "      <th>OS</th>\n",
       "      <th>Display_size(inch)</th>\n",
       "      <th>Rating</th>\n",
       "      <th>Price</th>\n",
       "      <th>Reviews</th>\n",
       "      <th>processor_brand</th>\n",
       "      <th>main_os</th>\n",
       "    </tr>\n",
       "  </thead>\n",
       "  <tbody>\n",
       "    <tr>\n",
       "      <th>0</th>\n",
       "      <td>Lenovo</td>\n",
       "      <td>8</td>\n",
       "      <td>Intel Celeron Dual</td>\n",
       "      <td>64 bit Windows 11 Operating</td>\n",
       "      <td>15.601562</td>\n",
       "      <td>4.0</td>\n",
       "      <td>23790.0</td>\n",
       "      <td>0</td>\n",
       "      <td>Intel</td>\n",
       "      <td>Windows</td>\n",
       "    </tr>\n",
       "    <tr>\n",
       "      <th>1</th>\n",
       "      <td>ASUS</td>\n",
       "      <td>8</td>\n",
       "      <td>Intel Core i5</td>\n",
       "      <td>64 bit Windows 11 Operating</td>\n",
       "      <td>15.601562</td>\n",
       "      <td>4.3</td>\n",
       "      <td>38990.0</td>\n",
       "      <td>949</td>\n",
       "      <td>Intel</td>\n",
       "      <td>Windows</td>\n",
       "    </tr>\n",
       "    <tr>\n",
       "      <th>2</th>\n",
       "      <td>APPLE</td>\n",
       "      <td>8</td>\n",
       "      <td>Apple M2 Processor8</td>\n",
       "      <td>Mac OS Operating</td>\n",
       "      <td>13.601562</td>\n",
       "      <td>4.7</td>\n",
       "      <td>107990.0</td>\n",
       "      <td>999</td>\n",
       "      <td>Apple</td>\n",
       "      <td>Mac OS</td>\n",
       "    </tr>\n",
       "    <tr>\n",
       "      <th>3</th>\n",
       "      <td>HP</td>\n",
       "      <td>8</td>\n",
       "      <td>AMD Ryzen 3</td>\n",
       "      <td>Windows 11 Operating</td>\n",
       "      <td>15.601562</td>\n",
       "      <td>4.2</td>\n",
       "      <td>29490.0</td>\n",
       "      <td>1199</td>\n",
       "      <td>AMD</td>\n",
       "      <td>Windows</td>\n",
       "    </tr>\n",
       "    <tr>\n",
       "      <th>4</th>\n",
       "      <td>Infinix</td>\n",
       "      <td>8</td>\n",
       "      <td>Intel Core i3</td>\n",
       "      <td>64 bit Windows 11 Operating</td>\n",
       "      <td>15.601562</td>\n",
       "      <td>4.2</td>\n",
       "      <td>23990.0</td>\n",
       "      <td>35</td>\n",
       "      <td>Intel</td>\n",
       "      <td>Windows</td>\n",
       "    </tr>\n",
       "    <tr>\n",
       "      <th>...</th>\n",
       "      <td>...</td>\n",
       "      <td>...</td>\n",
       "      <td>...</td>\n",
       "      <td>...</td>\n",
       "      <td>...</td>\n",
       "      <td>...</td>\n",
       "      <td>...</td>\n",
       "      <td>...</td>\n",
       "      <td>...</td>\n",
       "      <td>...</td>\n",
       "    </tr>\n",
       "    <tr>\n",
       "      <th>526</th>\n",
       "      <td>HP</td>\n",
       "      <td>8</td>\n",
       "      <td>Intel Core i3</td>\n",
       "      <td>64 bit Windows 11 Operating</td>\n",
       "      <td>14.000000</td>\n",
       "      <td>4.3</td>\n",
       "      <td>38700.0</td>\n",
       "      <td>0</td>\n",
       "      <td>Intel</td>\n",
       "      <td>Windows</td>\n",
       "    </tr>\n",
       "    <tr>\n",
       "      <th>527</th>\n",
       "      <td>ASUS</td>\n",
       "      <td>4</td>\n",
       "      <td>Intel Celeron Dual</td>\n",
       "      <td>Chrome Operating</td>\n",
       "      <td>14.000000</td>\n",
       "      <td>5.0</td>\n",
       "      <td>21430.0</td>\n",
       "      <td>3</td>\n",
       "      <td>Intel</td>\n",
       "      <td>Chrome</td>\n",
       "    </tr>\n",
       "    <tr>\n",
       "      <th>528</th>\n",
       "      <td>DELL</td>\n",
       "      <td>8</td>\n",
       "      <td>Intel Core i5</td>\n",
       "      <td>Linux/Ubuntu Operating</td>\n",
       "      <td>14.000000</td>\n",
       "      <td>4.6</td>\n",
       "      <td>49960.0</td>\n",
       "      <td>7</td>\n",
       "      <td>Intel</td>\n",
       "      <td>Linux/Ubuntu</td>\n",
       "    </tr>\n",
       "    <tr>\n",
       "      <th>529</th>\n",
       "      <td>APPLE</td>\n",
       "      <td>16</td>\n",
       "      <td>Apple M2</td>\n",
       "      <td>Mac OS Operating</td>\n",
       "      <td>14.000000</td>\n",
       "      <td>5.0</td>\n",
       "      <td>234990.0</td>\n",
       "      <td>0</td>\n",
       "      <td>Apple</td>\n",
       "      <td>Mac OS</td>\n",
       "    </tr>\n",
       "    <tr>\n",
       "      <th>530</th>\n",
       "      <td>Infinix</td>\n",
       "      <td>16</td>\n",
       "      <td>Intel Core i5</td>\n",
       "      <td>Windows 11 Operating</td>\n",
       "      <td>14.000000</td>\n",
       "      <td>4.0</td>\n",
       "      <td>37990.0</td>\n",
       "      <td>0</td>\n",
       "      <td>Intel</td>\n",
       "      <td>Windows</td>\n",
       "    </tr>\n",
       "  </tbody>\n",
       "</table>\n",
       "<p>528 rows × 10 columns</p>\n",
       "</div>"
      ],
      "text/plain": [
       "       Brand  RAM_GB            Processor                            OS  \\\n",
       "0     Lenovo       8   Intel Celeron Dual  64 bit Windows 11 Operating    \n",
       "1       ASUS       8        Intel Core i5  64 bit Windows 11 Operating    \n",
       "2      APPLE       8  Apple M2 Processor8             Mac OS Operating    \n",
       "3         HP       8          AMD Ryzen 3         Windows 11 Operating    \n",
       "4    Infinix       8        Intel Core i3  64 bit Windows 11 Operating    \n",
       "..       ...     ...                  ...                           ...   \n",
       "526       HP       8        Intel Core i3  64 bit Windows 11 Operating    \n",
       "527     ASUS       4   Intel Celeron Dual             Chrome Operating    \n",
       "528     DELL       8        Intel Core i5       Linux/Ubuntu Operating    \n",
       "529    APPLE      16             Apple M2             Mac OS Operating    \n",
       "530  Infinix      16        Intel Core i5         Windows 11 Operating    \n",
       "\n",
       "     Display_size(inch)  Rating     Price  Reviews processor_brand  \\\n",
       "0             15.601562     4.0   23790.0        0           Intel   \n",
       "1             15.601562     4.3   38990.0      949           Intel   \n",
       "2             13.601562     4.7  107990.0      999           Apple   \n",
       "3             15.601562     4.2   29490.0     1199             AMD   \n",
       "4             15.601562     4.2   23990.0       35           Intel   \n",
       "..                  ...     ...       ...      ...             ...   \n",
       "526           14.000000     4.3   38700.0        0           Intel   \n",
       "527           14.000000     5.0   21430.0        3           Intel   \n",
       "528           14.000000     4.6   49960.0        7           Intel   \n",
       "529           14.000000     5.0  234990.0        0           Apple   \n",
       "530           14.000000     4.0   37990.0        0           Intel   \n",
       "\n",
       "          main_os  \n",
       "0         Windows  \n",
       "1         Windows  \n",
       "2          Mac OS  \n",
       "3         Windows  \n",
       "4         Windows  \n",
       "..            ...  \n",
       "526       Windows  \n",
       "527        Chrome  \n",
       "528  Linux/Ubuntu  \n",
       "529        Mac OS  \n",
       "530       Windows  \n",
       "\n",
       "[528 rows x 10 columns]"
      ]
     },
     "execution_count": 57,
     "metadata": {},
     "output_type": "execute_result"
    }
   ],
   "source": [
    "df"
   ]
  },
  {
   "cell_type": "code",
   "execution_count": null,
   "id": "ccd4413a",
   "metadata": {},
   "outputs": [],
   "source": []
  },
  {
   "cell_type": "markdown",
   "id": "b1962606",
   "metadata": {},
   "source": [
    "## Data visualization"
   ]
  },
  {
   "cell_type": "code",
   "execution_count": null,
   "id": "05c283cf",
   "metadata": {},
   "outputs": [],
   "source": []
  },
  {
   "cell_type": "code",
   "execution_count": 58,
   "id": "080d4623",
   "metadata": {},
   "outputs": [
    {
     "data": {
      "text/plain": [
       "'HP'"
      ]
     },
     "execution_count": 58,
     "metadata": {},
     "output_type": "execute_result"
    }
   ],
   "source": [
    "df['Brand'].mode()[0]"
   ]
  },
  {
   "cell_type": "code",
   "execution_count": 59,
   "id": "d0aeb833",
   "metadata": {},
   "outputs": [
    {
     "data": {
      "text/plain": [
       "Brand\n",
       "HP           97\n",
       "ASUS         87\n",
       "Lenovo       82\n",
       "DELL         65\n",
       "Acer         64\n",
       "MSI          44\n",
       "Infinix      26\n",
       "APPLE        17\n",
       "ZEBRONICS    11\n",
       "Wings         9\n",
       "realme        8\n",
       "SAMSUNG       6\n",
       "Ultimus       3\n",
       "Primebook     3\n",
       "CHUWI         2\n",
       "MICROSOFT     2\n",
       "GIGABYTE      1\n",
       "walker        1\n",
       "Name: count, dtype: int64"
      ]
     },
     "execution_count": 59,
     "metadata": {},
     "output_type": "execute_result"
    }
   ],
   "source": [
    "df['Brand'].value_counts()    #HP bought so many times"
   ]
  },
  {
   "cell_type": "code",
   "execution_count": 60,
   "id": "fd3c3013",
   "metadata": {},
   "outputs": [
    {
     "data": {
      "text/plain": [
       "512    309990.0\n",
       "347    290990.0\n",
       "359    290990.0\n",
       "511    249990.0\n",
       "415    242690.0\n",
       "Name: Price, dtype: float64"
      ]
     },
     "execution_count": 60,
     "metadata": {},
     "output_type": "execute_result"
    }
   ],
   "source": [
    "df[\"Price\"].nlargest()    # the mostly purchesed  laptop price. "
   ]
  },
  {
   "cell_type": "code",
   "execution_count": 61,
   "id": "d79976f8",
   "metadata": {},
   "outputs": [
    {
     "data": {
      "text/plain": [
       "Brand                  object\n",
       "RAM_GB                   int8\n",
       "Processor              object\n",
       "OS                     object\n",
       "Display_size(inch)    float16\n",
       "Rating                float64\n",
       "Price                 float64\n",
       "Reviews                 int64\n",
       "processor_brand        object\n",
       "main_os                object\n",
       "dtype: object"
      ]
     },
     "execution_count": 61,
     "metadata": {},
     "output_type": "execute_result"
    }
   ],
   "source": [
    "df.dtypes"
   ]
  },
  {
   "cell_type": "markdown",
   "id": "19e5b433",
   "metadata": {},
   "source": [
    "## Univariate analysis"
   ]
  },
  {
   "cell_type": "markdown",
   "id": "4b91d155",
   "metadata": {},
   "source": [
    "### Numerical"
   ]
  },
  {
   "cell_type": "code",
   "execution_count": 62,
   "id": "93590548",
   "metadata": {},
   "outputs": [],
   "source": [
    "plt.style.use('classic')"
   ]
  },
  {
   "cell_type": "code",
   "execution_count": 63,
   "id": "b42b4971",
   "metadata": {},
   "outputs": [
    {
     "data": {
      "text/plain": [
       "<Axes: title={'center': 'Histogram of Price'}, ylabel='Frequency'>"
      ]
     },
     "execution_count": 63,
     "metadata": {},
     "output_type": "execute_result"
    },
    {
     "data": {
      "image/png": "[encoded data removed]",
      "text/plain": [
       "<Figure size 800x320 with 1 Axes>"
      ]
     },
     "metadata": {},
     "output_type": "display_data"
    }
   ],
   "source": [
    "df['Price'].plot(kind = 'hist',\n",
    "                 title='Histogram of Price',\n",
    "                color = '#4275f5',\n",
    "                grid = True,\n",
    "                figsize = (10,4))"
   ]
  },
  {
   "cell_type": "markdown",
   "id": "3870c885",
   "metadata": {},
   "source": [
    "**Insights**\n",
    "\n",
    "* number of occurences of laptop prices btw range 45 k to 70k.\n",
    "\n",
    "* second heighest occrences of laptop prices btw range 10k to 45k.\n",
    "\n",
    "* number of least occurences of laptop prices btw range 180k to 250k "
   ]
  },
  {
   "cell_type": "code",
   "execution_count": null,
   "id": "22277262",
   "metadata": {},
   "outputs": [],
   "source": []
  },
  {
   "cell_type": "markdown",
   "id": "939ff9e7",
   "metadata": {},
   "source": [
    "### Distribution of target column(Price)"
   ]
  },
  {
   "cell_type": "code",
   "execution_count": 64,
   "id": "1e981d81",
   "metadata": {},
   "outputs": [
    {
     "data": {
      "image/png": "[encoded data removed]",
      "text/plain": [
       "<Figure size 640x480 with 1 Axes>"
      ]
     },
     "metadata": {},
     "output_type": "display_data"
    }
   ],
   "source": [
    "sns.histplot(df['Price'], kde=True, bins=30, color='skyblue')\n",
    "plt.title('Distribution of Price')\n",
    "plt.xlabel('Price')\n",
    "plt.ylabel('Frequency')\n",
    "plt.show()"
   ]
  },
  {
   "cell_type": "markdown",
   "id": "555c0b3d",
   "metadata": {},
   "source": [
    "**insights** ---> Looking at the above distribution plot, it's evident that there are some outliers, i.e, there are some laptops that cost greater than 2,00,000 INR.\n",
    "\n",
    "* The distribution of the target variable is skewed and it is obvious that commodities with low prices are sold and purchased more than the branded ones."
   ]
  },
  {
   "cell_type": "code",
   "execution_count": 65,
   "id": "67935fef",
   "metadata": {},
   "outputs": [
    {
     "data": {
      "text/plain": [
       "Brand\n",
       "HP           97\n",
       "ASUS         87\n",
       "Lenovo       82\n",
       "DELL         65\n",
       "Acer         64\n",
       "MSI          44\n",
       "Infinix      26\n",
       "APPLE        17\n",
       "ZEBRONICS    11\n",
       "Wings         9\n",
       "realme        8\n",
       "SAMSUNG       6\n",
       "Ultimus       3\n",
       "Primebook     3\n",
       "CHUWI         2\n",
       "MICROSOFT     2\n",
       "GIGABYTE      1\n",
       "walker        1\n",
       "Name: count, dtype: int64"
      ]
     },
     "execution_count": 65,
     "metadata": {},
     "output_type": "execute_result"
    }
   ],
   "source": [
    "df['Brand'].value_counts()"
   ]
  },
  {
   "cell_type": "markdown",
   "id": "cf84afd9",
   "metadata": {},
   "source": []
  },
  {
   "cell_type": "code",
   "execution_count": 66,
   "id": "dd1783a4",
   "metadata": {},
   "outputs": [
    {
     "data": {
      "text/plain": [
       "array([ 8, 16,  4, 32, 18], dtype=int8)"
      ]
     },
     "execution_count": 66,
     "metadata": {},
     "output_type": "execute_result"
    }
   ],
   "source": [
    "df['RAM_GB'].unique()"
   ]
  },
  {
   "cell_type": "code",
   "execution_count": 67,
   "id": "f3a4fff4",
   "metadata": {},
   "outputs": [
    {
     "data": {
      "text/plain": [
       "<Axes: ylabel='count'>"
      ]
     },
     "execution_count": 67,
     "metadata": {},
     "output_type": "execute_result"
    },
    {
     "data": {
      "image/png": "[encoded data removed]",
      "text/plain": [
       "<Figure size 640x480 with 1 Axes>"
      ]
     },
     "metadata": {},
     "output_type": "display_data"
    }
   ],
   "source": [
    "df['RAM_GB'].value_counts().plot(kind='pie')"
   ]
  },
  {
   "cell_type": "markdown",
   "id": "6df80541",
   "metadata": {},
   "source": [
    "* We can see that most people seem to opt out for 8GB variants of laptops and then if required get extra RAM chips, this is comparatively cheaper that buying laptops with higher RAM."
   ]
  },
  {
   "cell_type": "code",
   "execution_count": null,
   "id": "b12100aa",
   "metadata": {},
   "outputs": [],
   "source": []
  },
  {
   "cell_type": "markdown",
   "id": "e82696a3",
   "metadata": {},
   "source": [
    "## Categorical"
   ]
  },
  {
   "cell_type": "code",
   "execution_count": 68,
   "id": "7fb9bb3b",
   "metadata": {},
   "outputs": [
    {
     "data": {
      "text/plain": [
       "<Axes: xlabel='Brand'>"
      ]
     },
     "execution_count": 68,
     "metadata": {},
     "output_type": "execute_result"
    },
    {
     "data": {
      "image/png": "[encoded data removed]",
      "text/plain": [
       "<Figure size 640x480 with 1 Axes>"
      ]
     },
     "metadata": {},
     "output_type": "display_data"
    }
   ],
   "source": [
    "df['Brand'].value_counts().plot(kind='bar',                      # \n",
    "                               color = ['#4275f5','#42bcf5'])"
   ]
  },
  {
   "cell_type": "markdown",
   "id": "3199e7c9",
   "metadata": {},
   "source": [
    "# conclusions\n",
    "\n",
    "* Most commonly sold laptops seem to be from HP brand. the count is 97.\n",
    "\n",
    "\n",
    "* The minimum sold laptop Brand is walker and GIGABYTE and the count is 1.\n",
    "\n",
    "\n",
    "* The second most sold laptop Brand is ASUS the count is 87.\n",
    "\n",
    "\n",
    "* the laptop Brands Ultimus and Primebook is in same count is 3.\n"
   ]
  },
  {
   "cell_type": "code",
   "execution_count": null,
   "id": "2f7cb9fa",
   "metadata": {},
   "outputs": [],
   "source": []
  },
  {
   "cell_type": "markdown",
   "id": "c6e1c8a4",
   "metadata": {},
   "source": [
    "#### Maim_os"
   ]
  },
  {
   "cell_type": "code",
   "execution_count": 69,
   "id": "98d90996",
   "metadata": {},
   "outputs": [
    {
     "data": {
      "text/plain": [
       "<Axes: xlabel='main_os', ylabel='count'>"
      ]
     },
     "execution_count": 69,
     "metadata": {},
     "output_type": "execute_result"
    },
    {
     "data": {
      "image/png": "[encoded data removed]",
      "text/plain": [
       "<Figure size 640x480 with 1 Axes>"
      ]
     },
     "metadata": {},
     "output_type": "display_data"
    }
   ],
   "source": [
    "sns.countplot(data = df,x = 'main_os', width = 0.4)   #categorical"
   ]
  },
  {
   "cell_type": "markdown",
   "id": "9cc1b843",
   "metadata": {},
   "source": [
    "## Insights"
   ]
  },
  {
   "cell_type": "markdown",
   "id": "ce681cda",
   "metadata": {},
   "source": [
    "* It looks like most people choose Windows in operating system in there configuration.\n",
    "\n",
    "* second most choosen operating system is Mac OS.\n",
    "\n",
    "* Least choosen operating system as compare to others is Linux/Ubuntu."
   ]
  },
  {
   "cell_type": "code",
   "execution_count": null,
   "id": "d4710f6b",
   "metadata": {},
   "outputs": [],
   "source": []
  },
  {
   "cell_type": "markdown",
   "id": "b4ecdefc",
   "metadata": {},
   "source": [
    "#### Display_size(inch)"
   ]
  },
  {
   "cell_type": "code",
   "execution_count": 70,
   "id": "a8138eab",
   "metadata": {},
   "outputs": [
    {
     "data": {
      "text/plain": [
       "<Axes: xlabel='Display_size(inch)'>"
      ]
     },
     "execution_count": 70,
     "metadata": {},
     "output_type": "execute_result"
    },
    {
     "data": {
      "image/png": "[encoded data removed]",
      "text/plain": [
       "<Figure size 640x480 with 1 Axes>"
      ]
     },
     "metadata": {},
     "output_type": "display_data"
    }
   ],
   "source": [
    "df['Display_size(inch)'].value_counts().plot(kind='bar')"
   ]
  },
  {
   "cell_type": "markdown",
   "id": "a1c17a97",
   "metadata": {},
   "source": [
    "#### Most bought laptops have a display size of 15 inch, as evident from the data."
   ]
  },
  {
   "cell_type": "code",
   "execution_count": null,
   "id": "233426fc",
   "metadata": {},
   "outputs": [],
   "source": []
  },
  {
   "cell_type": "code",
   "execution_count": 71,
   "id": "c1516493",
   "metadata": {},
   "outputs": [
    {
     "name": "stdout",
     "output_type": "stream",
     "text": [
      "<class 'pandas.core.frame.DataFrame'>\n",
      "Index: 528 entries, 0 to 530\n",
      "Data columns (total 10 columns):\n",
      " #   Column              Non-Null Count  Dtype  \n",
      "---  ------              --------------  -----  \n",
      " 0   Brand               528 non-null    object \n",
      " 1   RAM_GB              528 non-null    int8   \n",
      " 2   Processor           528 non-null    object \n",
      " 3   OS                  528 non-null    object \n",
      " 4   Display_size(inch)  528 non-null    float16\n",
      " 5   Rating              528 non-null    float64\n",
      " 6   Price               528 non-null    float64\n",
      " 7   Reviews             528 non-null    int64  \n",
      " 8   processor_brand     528 non-null    object \n",
      " 9   main_os             516 non-null    object \n",
      "dtypes: float16(1), float64(2), int64(1), int8(1), object(5)\n",
      "memory usage: 54.8+ KB\n"
     ]
    }
   ],
   "source": [
    "df.info()"
   ]
  },
  {
   "cell_type": "code",
   "execution_count": 72,
   "id": "9097d364",
   "metadata": {},
   "outputs": [
    {
     "data": {
      "text/plain": [
       "Index(['Brand', 'RAM_GB', 'Processor', 'OS', 'Display_size(inch)', 'Rating',\n",
       "       'Price', 'Reviews', 'processor_brand', 'main_os'],\n",
       "      dtype='object')"
      ]
     },
     "execution_count": 72,
     "metadata": {},
     "output_type": "execute_result"
    }
   ],
   "source": [
    "df.columns"
   ]
  },
  {
   "cell_type": "markdown",
   "id": "325b968a",
   "metadata": {},
   "source": [
    "## Bivariate"
   ]
  },
  {
   "cell_type": "markdown",
   "id": "a1be84dc",
   "metadata": {},
   "source": [
    "### Numerical and categorical"
   ]
  },
  {
   "cell_type": "code",
   "execution_count": 73,
   "id": "b4646b97",
   "metadata": {},
   "outputs": [],
   "source": [
    "# is the price influenced by processor_brand?"
   ]
  },
  {
   "cell_type": "code",
   "execution_count": 74,
   "id": "e37f512a",
   "metadata": {},
   "outputs": [],
   "source": [
    "plt.style.use('classic')"
   ]
  },
  {
   "cell_type": "code",
   "execution_count": 75,
   "id": "05e88072",
   "metadata": {},
   "outputs": [
    {
     "data": {
      "text/plain": [
       "<Axes: xlabel='Price', ylabel='processor_brand'>"
      ]
     },
     "execution_count": 75,
     "metadata": {},
     "output_type": "execute_result"
    },
    {
     "data": {
      "image/png": "[encoded data removed]",
      "text/plain": [
       "<Figure size 640x480 with 1 Axes>"
      ]
     },
     "metadata": {},
     "output_type": "display_data"
    }
   ],
   "source": [
    "sns.barplot( x = df[\"Price\"],y = df[\"processor_brand\"], ci =False)"
   ]
  },
  {
   "cell_type": "code",
   "execution_count": null,
   "id": "a75552cd",
   "metadata": {},
   "outputs": [],
   "source": []
  },
  {
   "cell_type": "code",
   "execution_count": 76,
   "id": "1783536e",
   "metadata": {},
   "outputs": [],
   "source": [
    "# is the brand affects on price?\n",
    "#How"
   ]
  },
  {
   "cell_type": "code",
   "execution_count": 77,
   "id": "36912eb6",
   "metadata": {},
   "outputs": [
    {
     "data": {
      "image/png": "[encoded data removed]",
      "text/plain": [
       "<Figure size 640x480 with 1 Axes>"
      ]
     },
     "metadata": {},
     "output_type": "display_data"
    }
   ],
   "source": [
    "sns.barplot( x = df[\"Brand\"] ,y = df[\"Price\"], ci = False) \n",
    "plt.xticks(rotation =90);"
   ]
  },
  {
   "cell_type": "markdown",
   "id": "ef983278",
   "metadata": {},
   "source": [
    "### insights\n",
    "\n",
    "* APPLE is most expensive laptop brand and the price is about 160k\n",
    "\n",
    "* the second most expensive laptop brand is MICROSOFT the price is 120 k\n",
    "\n",
    "* Lenovo ,ASUS,HP and Dell laptop brands are in same price is around 58 k\n",
    "\n",
    "* least expensive laptop brand as compare to other brand is primebook. the price is  around 10k."
   ]
  },
  {
   "cell_type": "code",
   "execution_count": null,
   "id": "61bf106c",
   "metadata": {},
   "outputs": [],
   "source": []
  },
  {
   "cell_type": "code",
   "execution_count": null,
   "id": "008fc726",
   "metadata": {},
   "outputs": [],
   "source": []
  },
  {
   "cell_type": "code",
   "execution_count": 78,
   "id": "f0aca359",
   "metadata": {},
   "outputs": [
    {
     "data": {
      "text/html": [
       "<div>\n",
       "<style scoped>\n",
       "    .dataframe tbody tr th:only-of-type {\n",
       "        vertical-align: middle;\n",
       "    }\n",
       "\n",
       "    .dataframe tbody tr th {\n",
       "        vertical-align: top;\n",
       "    }\n",
       "\n",
       "    .dataframe thead th {\n",
       "        text-align: right;\n",
       "    }\n",
       "</style>\n",
       "<table border=\"1\" class=\"dataframe\">\n",
       "  <thead>\n",
       "    <tr style=\"text-align: right;\">\n",
       "      <th></th>\n",
       "      <th>RAM_GB</th>\n",
       "      <th>Display_size(inch)</th>\n",
       "      <th>Rating</th>\n",
       "      <th>Price</th>\n",
       "      <th>Reviews</th>\n",
       "    </tr>\n",
       "  </thead>\n",
       "  <tbody>\n",
       "    <tr>\n",
       "      <th>RAM_GB</th>\n",
       "      <td>1.000000</td>\n",
       "      <td>0.177852</td>\n",
       "      <td>0.059294</td>\n",
       "      <td>0.642319</td>\n",
       "      <td>0.035931</td>\n",
       "    </tr>\n",
       "    <tr>\n",
       "      <th>Display_size(inch)</th>\n",
       "      <td>0.177852</td>\n",
       "      <td>1.000000</td>\n",
       "      <td>0.049347</td>\n",
       "      <td>0.079113</td>\n",
       "      <td>-0.043995</td>\n",
       "    </tr>\n",
       "    <tr>\n",
       "      <th>Rating</th>\n",
       "      <td>0.059294</td>\n",
       "      <td>0.049347</td>\n",
       "      <td>1.000000</td>\n",
       "      <td>0.054603</td>\n",
       "      <td>0.013937</td>\n",
       "    </tr>\n",
       "    <tr>\n",
       "      <th>Price</th>\n",
       "      <td>0.642319</td>\n",
       "      <td>0.079113</td>\n",
       "      <td>0.054603</td>\n",
       "      <td>1.000000</td>\n",
       "      <td>0.056446</td>\n",
       "    </tr>\n",
       "    <tr>\n",
       "      <th>Reviews</th>\n",
       "      <td>0.035931</td>\n",
       "      <td>-0.043995</td>\n",
       "      <td>0.013937</td>\n",
       "      <td>0.056446</td>\n",
       "      <td>1.000000</td>\n",
       "    </tr>\n",
       "  </tbody>\n",
       "</table>\n",
       "</div>"
      ],
      "text/plain": [
       "                      RAM_GB  Display_size(inch)    Rating     Price   Reviews\n",
       "RAM_GB              1.000000            0.177852  0.059294  0.642319  0.035931\n",
       "Display_size(inch)  0.177852            1.000000  0.049347  0.079113 -0.043995\n",
       "Rating              0.059294            0.049347  1.000000  0.054603  0.013937\n",
       "Price               0.642319            0.079113  0.054603  1.000000  0.056446\n",
       "Reviews             0.035931           -0.043995  0.013937  0.056446  1.000000"
      ]
     },
     "execution_count": 78,
     "metadata": {},
     "output_type": "execute_result"
    }
   ],
   "source": [
    "df.corr(numeric_only = True)"
   ]
  },
  {
   "cell_type": "code",
   "execution_count": null,
   "id": "5d7c4ad1",
   "metadata": {},
   "outputs": [],
   "source": []
  },
  {
   "cell_type": "code",
   "execution_count": 79,
   "id": "2dbbc076",
   "metadata": {},
   "outputs": [
    {
     "data": {
      "text/plain": [
       "<Axes: ylabel='Rating'>"
      ]
     },
     "execution_count": 79,
     "metadata": {},
     "output_type": "execute_result"
    },
    {
     "data": {
      "image/png": "[encoded data removed]",
      "text/plain": [
       "<Figure size 640x480 with 1 Axes>"
      ]
     },
     "metadata": {},
     "output_type": "display_data"
    }
   ],
   "source": [
    "(df.groupby(by = 'Brand')['Rating'].sum().sort_values().nlargest(5)/df['Rating'].sum()*100).plot(kind='pie',\n",
    "                                                                                             autopct='%0.2f')"
   ]
  },
  {
   "cell_type": "markdown",
   "id": "235fac0d",
   "metadata": {},
   "source": [
    "### Insights"
   ]
  },
  {
   "cell_type": "markdown",
   "id": "22832316",
   "metadata": {},
   "source": [
    "* compare to other laptop brands HP laptop is having more ratings.\n",
    "\n",
    "* followed by other brands ASUS laptop is in second place for ratings.\n",
    "\n",
    "* Acer laptop ratings are very less as compare to other laptop Brands"
   ]
  },
  {
   "cell_type": "code",
   "execution_count": null,
   "id": "0893b9dd",
   "metadata": {},
   "outputs": [],
   "source": []
  },
  {
   "cell_type": "markdown",
   "id": "6effd6d7",
   "metadata": {},
   "source": [
    "## Numerical and Numerical "
   ]
  },
  {
   "cell_type": "code",
   "execution_count": 80,
   "id": "460af298",
   "metadata": {},
   "outputs": [
    {
     "data": {
      "text/plain": [
       "<Axes: xlabel='RAM_GB'>"
      ]
     },
     "execution_count": 80,
     "metadata": {},
     "output_type": "execute_result"
    },
    {
     "data": {
      "image/png": "[encoded data removed]",
      "text/plain": [
       "<Figure size 640x480 with 1 Axes>"
      ]
     },
     "metadata": {},
     "output_type": "display_data"
    }
   ],
   "source": [
    "df.groupby('RAM_GB').agg({'Price':'sum'}).sort_values('Price',ascending=False).plot(kind='bar')"
   ]
  },
  {
   "cell_type": "code",
   "execution_count": 81,
   "id": "f45905bf",
   "metadata": {
    "scrolled": true
   },
   "outputs": [
    {
     "data": {
      "text/html": [
       "<div>\n",
       "<style scoped>\n",
       "    .dataframe tbody tr th:only-of-type {\n",
       "        vertical-align: middle;\n",
       "    }\n",
       "\n",
       "    .dataframe tbody tr th {\n",
       "        vertical-align: top;\n",
       "    }\n",
       "\n",
       "    .dataframe thead th {\n",
       "        text-align: right;\n",
       "    }\n",
       "</style>\n",
       "<table border=\"1\" class=\"dataframe\">\n",
       "  <thead>\n",
       "    <tr style=\"text-align: right;\">\n",
       "      <th></th>\n",
       "      <th>Price</th>\n",
       "    </tr>\n",
       "    <tr>\n",
       "      <th>RAM_GB</th>\n",
       "      <th></th>\n",
       "    </tr>\n",
       "  </thead>\n",
       "  <tbody>\n",
       "    <tr>\n",
       "      <th>16</th>\n",
       "      <td>15968283.0</td>\n",
       "    </tr>\n",
       "    <tr>\n",
       "      <th>8</th>\n",
       "      <td>12506108.0</td>\n",
       "    </tr>\n",
       "    <tr>\n",
       "      <th>32</th>\n",
       "      <td>2463080.0</td>\n",
       "    </tr>\n",
       "    <tr>\n",
       "      <th>4</th>\n",
       "      <td>370120.0</td>\n",
       "    </tr>\n",
       "    <tr>\n",
       "      <th>18</th>\n",
       "      <td>199900.0</td>\n",
       "    </tr>\n",
       "  </tbody>\n",
       "</table>\n",
       "</div>"
      ],
      "text/plain": [
       "             Price\n",
       "RAM_GB            \n",
       "16      15968283.0\n",
       "8       12506108.0\n",
       "32       2463080.0\n",
       "4         370120.0\n",
       "18        199900.0"
      ]
     },
     "execution_count": 81,
     "metadata": {},
     "output_type": "execute_result"
    }
   ],
   "source": [
    "df.groupby('RAM_GB').agg({'Price':'sum'}).sort_values('Price',ascending=False)"
   ]
  },
  {
   "cell_type": "code",
   "execution_count": null,
   "id": "eea5878d",
   "metadata": {},
   "outputs": [],
   "source": []
  },
  {
   "cell_type": "markdown",
   "id": "9ca719f1",
   "metadata": {},
   "source": [
    "## Multivariate analysis"
   ]
  },
  {
   "cell_type": "code",
   "execution_count": 82,
   "id": "2d33585a",
   "metadata": {},
   "outputs": [
    {
     "data": {
      "text/html": [
       "<div>\n",
       "<style scoped>\n",
       "    .dataframe tbody tr th:only-of-type {\n",
       "        vertical-align: middle;\n",
       "    }\n",
       "\n",
       "    .dataframe tbody tr th {\n",
       "        vertical-align: top;\n",
       "    }\n",
       "\n",
       "    .dataframe thead th {\n",
       "        text-align: right;\n",
       "    }\n",
       "</style>\n",
       "<table border=\"1\" class=\"dataframe\">\n",
       "  <thead>\n",
       "    <tr style=\"text-align: right;\">\n",
       "      <th></th>\n",
       "      <th>RAM_GB</th>\n",
       "      <th>Display_size(inch)</th>\n",
       "      <th>Rating</th>\n",
       "      <th>Price</th>\n",
       "      <th>Reviews</th>\n",
       "    </tr>\n",
       "  </thead>\n",
       "  <tbody>\n",
       "    <tr>\n",
       "      <th>RAM_GB</th>\n",
       "      <td>1.000000</td>\n",
       "      <td>0.177852</td>\n",
       "      <td>0.059294</td>\n",
       "      <td>0.642319</td>\n",
       "      <td>0.035931</td>\n",
       "    </tr>\n",
       "    <tr>\n",
       "      <th>Display_size(inch)</th>\n",
       "      <td>0.177852</td>\n",
       "      <td>1.000000</td>\n",
       "      <td>0.049347</td>\n",
       "      <td>0.079113</td>\n",
       "      <td>-0.043995</td>\n",
       "    </tr>\n",
       "    <tr>\n",
       "      <th>Rating</th>\n",
       "      <td>0.059294</td>\n",
       "      <td>0.049347</td>\n",
       "      <td>1.000000</td>\n",
       "      <td>0.054603</td>\n",
       "      <td>0.013937</td>\n",
       "    </tr>\n",
       "    <tr>\n",
       "      <th>Price</th>\n",
       "      <td>0.642319</td>\n",
       "      <td>0.079113</td>\n",
       "      <td>0.054603</td>\n",
       "      <td>1.000000</td>\n",
       "      <td>0.056446</td>\n",
       "    </tr>\n",
       "    <tr>\n",
       "      <th>Reviews</th>\n",
       "      <td>0.035931</td>\n",
       "      <td>-0.043995</td>\n",
       "      <td>0.013937</td>\n",
       "      <td>0.056446</td>\n",
       "      <td>1.000000</td>\n",
       "    </tr>\n",
       "  </tbody>\n",
       "</table>\n",
       "</div>"
      ],
      "text/plain": [
       "                      RAM_GB  Display_size(inch)    Rating     Price   Reviews\n",
       "RAM_GB              1.000000            0.177852  0.059294  0.642319  0.035931\n",
       "Display_size(inch)  0.177852            1.000000  0.049347  0.079113 -0.043995\n",
       "Rating              0.059294            0.049347  1.000000  0.054603  0.013937\n",
       "Price               0.642319            0.079113  0.054603  1.000000  0.056446\n",
       "Reviews             0.035931           -0.043995  0.013937  0.056446  1.000000"
      ]
     },
     "execution_count": 82,
     "metadata": {},
     "output_type": "execute_result"
    }
   ],
   "source": [
    "df.corr(numeric_only= True)    #coefficient values"
   ]
  },
  {
   "cell_type": "code",
   "execution_count": 83,
   "id": "4458e326",
   "metadata": {
    "scrolled": true
   },
   "outputs": [
    {
     "data": {
      "text/plain": [
       "<seaborn.axisgrid.PairGrid at 0x1cd8aac72d0>"
      ]
     },
     "execution_count": 83,
     "metadata": {},
     "output_type": "execute_result"
    },
    {
     "data": {
      "image/png": "[encoded data removed]",
      "text/plain": [
       "<Figure size 1000x1000 with 30 Axes>"
      ]
     },
     "metadata": {},
     "output_type": "display_data"
    }
   ],
   "source": [
    "sns.pairplot(df)   "
   ]
  },
  {
   "cell_type": "code",
   "execution_count": null,
   "id": "3b6fa0c2",
   "metadata": {},
   "outputs": [],
   "source": []
  },
  {
   "cell_type": "code",
   "execution_count": null,
   "id": "a4b30326",
   "metadata": {},
   "outputs": [],
   "source": []
  },
  {
   "cell_type": "code",
   "execution_count": 84,
   "id": "f01b2933",
   "metadata": {},
   "outputs": [
    {
     "data": {
      "text/plain": [
       "<Axes: >"
      ]
     },
     "execution_count": 84,
     "metadata": {},
     "output_type": "execute_result"
    },
    {
     "data": {
      "image/png": "[encoded data removed]",
      "text/plain": [
       "<Figure size 640x480 with 2 Axes>"
      ]
     },
     "metadata": {},
     "output_type": "display_data"
    }
   ],
   "source": [
    "sns.heatmap(df.corr(numeric_only = True),annot= True)"
   ]
  },
  {
   "cell_type": "markdown",
   "id": "cb2f7939",
   "metadata": {},
   "source": [
    "#### Insights:\n",
    "\n",
    "* Price and RAM_GB has positively strong relation.\n",
    "\n",
    "* based upon wt input parameter price is impact?\n",
    "\n",
    "* here based upon RAM price is increased the value is 0.64\n",
    "\n",
    "* RAM and Price is having postive strong co-efficient co relastionship\n",
    "\n",
    "* here when RAM increases Price also increases"
   ]
  },
  {
   "cell_type": "code",
   "execution_count": null,
   "id": "a56e1893",
   "metadata": {},
   "outputs": [],
   "source": []
  },
  {
   "cell_type": "markdown",
   "id": "2c495c87",
   "metadata": {},
   "source": [
    "### Which laptop brands and models are consistently top sellers on Flipkart?"
   ]
  },
  {
   "cell_type": "code",
   "execution_count": 85,
   "id": "6ecce796",
   "metadata": {},
   "outputs": [
    {
     "data": {
      "text/plain": [
       "<Axes: xlabel='Brand'>"
      ]
     },
     "execution_count": 85,
     "metadata": {},
     "output_type": "execute_result"
    },
    {
     "data": {
      "image/png": "[encoded data removed]",
      "text/plain": [
       "<Figure size 640x480 with 1 Axes>"
      ]
     },
     "metadata": {},
     "output_type": "display_data"
    }
   ],
   "source": [
    "df.groupby(by = \"Brand\")[\"Price\"].sum().sort_values().plot(kind = \"bar\",\n",
    "                                                            color = \"purple\") # which laptop has more price"
   ]
  },
  {
   "cell_type": "code",
   "execution_count": 86,
   "id": "e6156d21",
   "metadata": {},
   "outputs": [
    {
     "data": {
      "text/html": [
       "<div>\n",
       "<style scoped>\n",
       "    .dataframe tbody tr th:only-of-type {\n",
       "        vertical-align: middle;\n",
       "    }\n",
       "\n",
       "    .dataframe tbody tr th {\n",
       "        vertical-align: top;\n",
       "    }\n",
       "\n",
       "    .dataframe thead th {\n",
       "        text-align: right;\n",
       "    }\n",
       "</style>\n",
       "<table border=\"1\" class=\"dataframe\">\n",
       "  <thead>\n",
       "    <tr style=\"text-align: right;\">\n",
       "      <th></th>\n",
       "      <th>Price</th>\n",
       "    </tr>\n",
       "    <tr>\n",
       "      <th>Brand</th>\n",
       "      <th></th>\n",
       "    </tr>\n",
       "  </thead>\n",
       "  <tbody>\n",
       "    <tr>\n",
       "      <th>HP</th>\n",
       "      <td>5548881.0</td>\n",
       "    </tr>\n",
       "    <tr>\n",
       "      <th>ASUS</th>\n",
       "      <td>5001715.0</td>\n",
       "    </tr>\n",
       "    <tr>\n",
       "      <th>Lenovo</th>\n",
       "      <td>4753930.0</td>\n",
       "    </tr>\n",
       "    <tr>\n",
       "      <th>DELL</th>\n",
       "      <td>3770799.0</td>\n",
       "    </tr>\n",
       "    <tr>\n",
       "      <th>MSI</th>\n",
       "      <td>3313560.0</td>\n",
       "    </tr>\n",
       "  </tbody>\n",
       "</table>\n",
       "</div>"
      ],
      "text/plain": [
       "            Price\n",
       "Brand            \n",
       "HP      5548881.0\n",
       "ASUS    5001715.0\n",
       "Lenovo  4753930.0\n",
       "DELL    3770799.0\n",
       "MSI     3313560.0"
      ]
     },
     "execution_count": 86,
     "metadata": {},
     "output_type": "execute_result"
    }
   ],
   "source": [
    "df.groupby('Brand').agg({'Price':'sum'}).sort_values('Price',ascending=False).head(5)"
   ]
  },
  {
   "cell_type": "markdown",
   "id": "ee949225",
   "metadata": {},
   "source": [
    "#### HP laptop brand is top seller on flipkart."
   ]
  },
  {
   "cell_type": "markdown",
   "id": "60d63ba0",
   "metadata": {},
   "source": [
    "### which laptops  have more than 200000 price ?"
   ]
  },
  {
   "cell_type": "code",
   "execution_count": 87,
   "id": "fee51d2e",
   "metadata": {},
   "outputs": [
    {
     "data": {
      "text/html": [
       "<div>\n",
       "<style scoped>\n",
       "    .dataframe tbody tr th:only-of-type {\n",
       "        vertical-align: middle;\n",
       "    }\n",
       "\n",
       "    .dataframe tbody tr th {\n",
       "        vertical-align: top;\n",
       "    }\n",
       "\n",
       "    .dataframe thead th {\n",
       "        text-align: right;\n",
       "    }\n",
       "</style>\n",
       "<table border=\"1\" class=\"dataframe\">\n",
       "  <thead>\n",
       "    <tr style=\"text-align: right;\">\n",
       "      <th></th>\n",
       "      <th>Brand</th>\n",
       "      <th>RAM_GB</th>\n",
       "      <th>Processor</th>\n",
       "      <th>OS</th>\n",
       "      <th>Display_size(inch)</th>\n",
       "      <th>Rating</th>\n",
       "      <th>Price</th>\n",
       "      <th>Reviews</th>\n",
       "      <th>processor_brand</th>\n",
       "      <th>main_os</th>\n",
       "    </tr>\n",
       "  </thead>\n",
       "  <tbody>\n",
       "    <tr>\n",
       "      <th>347</th>\n",
       "      <td>APPLE</td>\n",
       "      <td>32</td>\n",
       "      <td>Apple M2 Max</td>\n",
       "      <td>Mac OS Operating</td>\n",
       "      <td>14.000000</td>\n",
       "      <td>5.0</td>\n",
       "      <td>290990.0</td>\n",
       "      <td>0</td>\n",
       "      <td>Apple</td>\n",
       "      <td>Mac OS</td>\n",
       "    </tr>\n",
       "    <tr>\n",
       "      <th>359</th>\n",
       "      <td>APPLE</td>\n",
       "      <td>32</td>\n",
       "      <td>Apple M2 Max</td>\n",
       "      <td>Mac OS Operating</td>\n",
       "      <td>14.000000</td>\n",
       "      <td>4.4</td>\n",
       "      <td>290990.0</td>\n",
       "      <td>7</td>\n",
       "      <td>Apple</td>\n",
       "      <td>Mac OS</td>\n",
       "    </tr>\n",
       "    <tr>\n",
       "      <th>415</th>\n",
       "      <td>DELL</td>\n",
       "      <td>32</td>\n",
       "      <td>Intel Core i9</td>\n",
       "      <td>64 bit Windows 11 Operating</td>\n",
       "      <td>15.601562</td>\n",
       "      <td>4.2</td>\n",
       "      <td>242690.0</td>\n",
       "      <td>949</td>\n",
       "      <td>Intel</td>\n",
       "      <td>Windows</td>\n",
       "    </tr>\n",
       "    <tr>\n",
       "      <th>511</th>\n",
       "      <td>MSI</td>\n",
       "      <td>32</td>\n",
       "      <td>Intel Core i9</td>\n",
       "      <td>64 bit Windows 11 Operating</td>\n",
       "      <td>16.000000</td>\n",
       "      <td>4.2</td>\n",
       "      <td>249990.0</td>\n",
       "      <td>949</td>\n",
       "      <td>Intel</td>\n",
       "      <td>Windows</td>\n",
       "    </tr>\n",
       "    <tr>\n",
       "      <th>512</th>\n",
       "      <td>APPLE</td>\n",
       "      <td>32</td>\n",
       "      <td>Apple M1 Max</td>\n",
       "      <td>Mac OS Operating</td>\n",
       "      <td>16.203125</td>\n",
       "      <td>3.7</td>\n",
       "      <td>309990.0</td>\n",
       "      <td>10</td>\n",
       "      <td>Apple</td>\n",
       "      <td>Mac OS</td>\n",
       "    </tr>\n",
       "    <tr>\n",
       "      <th>529</th>\n",
       "      <td>APPLE</td>\n",
       "      <td>16</td>\n",
       "      <td>Apple M2</td>\n",
       "      <td>Mac OS Operating</td>\n",
       "      <td>14.000000</td>\n",
       "      <td>5.0</td>\n",
       "      <td>234990.0</td>\n",
       "      <td>0</td>\n",
       "      <td>Apple</td>\n",
       "      <td>Mac OS</td>\n",
       "    </tr>\n",
       "  </tbody>\n",
       "</table>\n",
       "</div>"
      ],
      "text/plain": [
       "     Brand  RAM_GB      Processor                            OS  \\\n",
       "347  APPLE      32   Apple M2 Max             Mac OS Operating    \n",
       "359  APPLE      32   Apple M2 Max             Mac OS Operating    \n",
       "415   DELL      32  Intel Core i9  64 bit Windows 11 Operating    \n",
       "511    MSI      32  Intel Core i9  64 bit Windows 11 Operating    \n",
       "512  APPLE      32   Apple M1 Max             Mac OS Operating    \n",
       "529  APPLE      16       Apple M2             Mac OS Operating    \n",
       "\n",
       "     Display_size(inch)  Rating     Price  Reviews processor_brand  main_os  \n",
       "347           14.000000     5.0  290990.0        0           Apple   Mac OS  \n",
       "359           14.000000     4.4  290990.0        7           Apple   Mac OS  \n",
       "415           15.601562     4.2  242690.0      949           Intel  Windows  \n",
       "511           16.000000     4.2  249990.0      949           Intel  Windows  \n",
       "512           16.203125     3.7  309990.0       10           Apple   Mac OS  \n",
       "529           14.000000     5.0  234990.0        0           Apple   Mac OS  "
      ]
     },
     "execution_count": 87,
     "metadata": {},
     "output_type": "execute_result"
    }
   ],
   "source": [
    "df[df['Price']>=200000]"
   ]
  },
  {
   "cell_type": "markdown",
   "id": "b23a398b",
   "metadata": {},
   "source": [
    "#### Apple Laptops are quite expensive. "
   ]
  },
  {
   "cell_type": "code",
   "execution_count": null,
   "id": "87fa8b5e",
   "metadata": {},
   "outputs": [],
   "source": []
  }
 ],
 "metadata": {
  "kernelspec": {
   "display_name": "Python 3 (ipykernel)",
   "language": "python",
   "name": "python3"
  },
  "language_info": {
   "codemirror_mode": {
    "name": "ipython",
    "version": 3
   },
   "file_extension": ".py",
   "mimetype": "text/x-python",
   "name": "python",
   "nbconvert_exporter": "python",
   "pygments_lexer": "ipython3",
   "version": "3.11.4"
  }
 },
 "nbformat": 4,
 "nbformat_minor": 5
}
